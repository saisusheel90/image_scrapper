{
 "cells": [
  {
   "cell_type": "code",
   "execution_count": 1,
   "id": "2b5d32ef-f1e9-4fe1-ab78-e082a67a8ab1",
   "metadata": {},
   "outputs": [],
   "source": [
    "import requests\n",
    "import logging\n",
    "import os\n",
    "from bs4 import BeautifulSoup\n",
    "from urllib.request import urlopen"
   ]
  },
  {
   "cell_type": "code",
   "execution_count": 2,
   "id": "c17b5eb9-e255-410a-954d-c59b7b42cb9d",
   "metadata": {},
   "outputs": [],
   "source": [
    "save_dir=\"images/\"\n",
    "if not os.path.exists(save_dir):\n",
    "    os.makedirs(save_dir)"
   ]
  },
  {
   "cell_type": "code",
   "execution_count": 4,
   "id": "1404d6b6-f82c-477b-9aae-47113f9a7e9b",
   "metadata": {},
   "outputs": [],
   "source": [
    "query=\"bible\"\n",
    "#url=https://www.google.com/search?sca_esv=ffb514d24184130b&sca_upv=1&rlz=1C1CHBD_enIN1096IN1096&sxsrf=ACQVn09HHEaJtRtBkT-nWuLKWaMONTCOlQ:1708404821933&q=query&tbm=isch&source=lnms&sa=X&ved=2ahUKEwizzKz0j7mEAxWXTWwGHSJ7D5gQ0pQJegQIDhAB&cshid=1708404975728059&biw=1366&bih=641&dpr=1"
   ]
  },
  {
   "cell_type": "code",
   "execution_count": 5,
   "id": "afad7eb5-3c46-4968-9b5f-20de47a070b4",
   "metadata": {},
   "outputs": [],
   "source": [
    "response=requests.get(f\"https://www.google.com/search?sca_esv=ffb514d24184130b&sca_upv=1&rlz=1C1CHBD_enIN1096IN1096&sxsrf=ACQVn09HHEaJtRtBkT-nWuLKWaMONTCOlQ:1708404821933&q={query}&tbm=isch&source=lnms&sa=X&ved=2ahUKEwizzKz0j7mEAxWXTWwGHSJ7D5gQ0pQJegQIDhAB&cshid=1708404975728059&biw=1366&bih=641&dpr=1\")"
   ]
  },
  {
   "cell_type": "code",
   "execution_count": 6,
   "id": "f1a2f5d2-4b52-4a5c-be4f-94d2ed10d3fc",
   "metadata": {},
   "outputs": [
    {
     "data": {
      "text/plain": [
       "<Response [200]>"
      ]
     },
     "execution_count": 6,
     "metadata": {},
     "output_type": "execute_result"
    }
   ],
   "source": [
    "response"
   ]
  },
  {
   "cell_type": "code",
   "execution_count": 9,
   "id": "6b1b60de-3ab6-4c36-8f20-71300a4e8b19",
   "metadata": {},
   "outputs": [],
   "source": [
    "soup=BeautifulSoup(response.content,\"html.parser\")"
   ]
  },
  {
   "cell_type": "code",
   "execution_count": 10,
   "id": "9a07065b-fc5e-4b47-a8e8-8aa136aa54c2",
   "metadata": {},
   "outputs": [
    {
     "data": {
      "text/plain": [
       "<!DOCTYPE html PUBLIC \"-//WAPFORUM//DTD XHTML Mobile 1.0//EN\" \"http://www.wapforum.org/DTD/xhtml-mobile10.dtd\">\n",
       "<html lang=\"en-IN\" xmlns=\"http://www.w3.org/1999/xhtml\"><head><meta content=\"application/xhtml+xml; charset=utf-8\" http-equiv=\"Content-Type\"/><meta content=\"no-cache\" name=\"Cache-Control\"/><title>bible - Google Search</title><style>a{text-decoration:none;color:inherit}a:hover{text-decoration:underline}a img{border:0}body{font-family:arial,sans-serif;padding:8px;margin:0 auto;max-width:700px;min-width:240px;}.FbhRzb{border-left:thin solid #dadce0;border-right:thin solid #dadce0;border-top:thin solid #dadce0;height:40px;overflow:hidden}.n692Zd{margin-bottom:10px}.cvifge{height:40px;border-spacing:0}.QvGUP{height:40px;padding:0 8px 0 8px;vertical-align:top}.O4cRJf{height:40px;width:100%;padding:0;padding-right:16px}.O1ePr{height:40px;padding:0;vertical-align:top}.kgJEQe{height:36px;width:98px;vertical-align:top;margin-top:4px}.lXLRf{vertical-align:top}.MhzMZd{border:0;vertical-align:middle;font-size:14px;height:40px;padding:0;width:100%;padding-left:16px}.xB0fq{height:40px;border:none;font-size:14px;background-color:#1a73e8;color:#fff;padding:0 16px;margin:0;vertical-align:top;cursor:pointer}.xB0fq:focus{border:1px solid #1a73e8}.M7pB2{border:thin solid #dadce0;margin:0 0 3px 0;font-size:13px;font-weight:500;height:40px}.euZec{width:100%;height:40px;text-align:center;border-spacing:0}table.euZec td{padding:0;width:25%}.QIqI7{display:inline-block;padding-top:4px;font-weight:bold;color:#4285f4}.EY24We{border-bottom:2px solid #4285f4}.CsQyDc{display:inline-block;color:#70757a}.TuS8Ad{font-size:14px}.HddGcc{padding:8px;color:#70757a}.dzp8ae{font-weight:bold;color:#3c4043}.rEM8G{color:#70757a}.bookcf{table-layout:fixed;width:100%;border-spacing:0}.InWNIe{text-align:center}.uZgmoc{border:thin solid #dadce0;color:#70757a;font-size:14px;text-align:center;table-layout:fixed;width:100%}.frGj1b{display:block;padding:12px 0 12px 0;width:100%}.BnJWBc{text-align:center;padding:6px 0 13px 0;height:35px}.e3goi{vertical-align:top;padding:0;height:180px}.GpQGbf{margin:auto;border-collapse:collapse;border-spacing:0;width:100%}</style></head><body><style>.X6ZCif{color:#202124;font-size:11px;line-height:16px;display:inline-block;padding-top:2px;overflow:hidden;padding-bottom:4px;width:100%}.TwVfHd{border-radius:16px;border:thin solid #dadce0;display:inline-block;padding:8px 8px;margin-right:8px;margin-bottom:4px}.yekiAe{background-color:#dadce0}.jjVJ4e{width:100%}.ezO2md{border:thin solid #dadce0;padding:12px 16px 12px 16px;margin-bottom:10px;font-family:arial,sans-serif}.lIMUZd{font-family:arial,sans-serif}.RntSmf{border-spacing:0}.lgD2Tc{width:100%}.SpelHe{text-align:center}.SpelHe{position:relative}.kCmkOe{position:relative}.kCmkOe{width:162px;height:140px;line-height:140px;overflow:'hidden';text-align:center}.DS1iW{text-align:center;margin:auto;vertical-align:middle;max-width:162px;max-height:140px}.AlD19d{padding-top:2px;padding-bottom:8px;}.fYyStc{word-break:break-word}.ynsChf{display:block;white-space:nowrap;overflow:hidden;text-overflow:ellipsis}.Fj3V3b{color:#1967d2;font-size:14px;line-height:20px}.FrIlee{color:#202124;font-size:11px;line-height:16px}.F9iS2e{color:#70757a;font-size:11px;line-height:16px}.WMQ2Le{color:#70757a;font-size:12px;line-height:16px}.x3G5ab{color:#202124;font-size:12px;line-height:16px}.fuLhoc{color:#1967d2;font-size:16px;line-height:20px}.epoveb{font-size:24px;line-height:28px;font-weight:400;color:#202124}.dXDvrc{color:#0d652d;font-size:14px;line-height:20px;word-wrap:break-word}.dloBPe{font-weight:bold}.YVIcad{color:#70757a}.JkVVdd{color:#ea4335}.oXZRFd{color:#ea4335}.MQHtg{color:#fbbc04}.pyMRrb{color:#1e8e3e}.EtTZid{color:#1e8e3e}.M3vVJe{color:#1967d2}.qXLe6d{display:block}.NHQNef{font-style:italic}.Cb8Z7c{white-space:pre}a.ZWRArf{text-decoration:none}a .CVA68e:hover{text-decoration:underline}</style><div class=\"n692Zd\"><div class=\"BnJWBc\"><a class=\"lXLRf\" href=\"/?sa=X&amp;sca_esv=ffb514d24184130b&amp;sca_upv=1&amp;rlz=1C1CHBD_enIN1096IN1096&amp;biw=1366&amp;bih=641&amp;output=images&amp;ie=UTF-8&amp;tbm=isch&amp;ved=0ahUKEwi_5dDGkrmEAxW--jgGHS1-CZQQPAgC\"><img alt=\"Google\" class=\"kgJEQe\" src=\"/images/branding/searchlogo/1x/googlelogo_desk_heirloom_color_150x55dp.gif\"/></a></div><div class=\"FbhRzb\"><form action=\"/search\"><input name=\"sca_esv\" type=\"hidden\" value=\"ffb514d24184130b\"/><input name=\"sca_upv\" type=\"hidden\" value=\"1\"/><input name=\"rlz\" type=\"hidden\" value=\"1C1CHBD_enIN1096IN1096\"/><input name=\"biw\" type=\"hidden\" value=\"1366\"/><input name=\"bih\" type=\"hidden\" value=\"641\"/><input name=\"ie\" type=\"hidden\" value=\"ISO-8859-1\"/><input name=\"tbm\" type=\"hidden\" value=\"isch\"/><input name=\"oq\" type=\"hidden\"/><input name=\"aqs\" type=\"hidden\"/><table class=\"cvifge\"><tr><td class=\"O4cRJf\"><input class=\"MhzMZd\" name=\"q\" type=\"text\" value=\"bible\"/></td><td class=\"O1ePr\"><input class=\"xB0fq\" type=\"submit\" value=\"Search\"/></td></tr></table></form></div><div class=\"M7pB2\"><table class=\"euZec\"><tbody><tr><td><a class=\"CsQyDc\" href=\"/search?q=bible&amp;sca_esv=ffb514d24184130b&amp;sca_upv=1&amp;rlz=1C1CHBD_enIN1096IN1096&amp;biw=1366&amp;bih=641&amp;ie=UTF-8&amp;source=lnms&amp;sa=X&amp;ved=0ahUKEwi_5dDGkrmEAxW--jgGHS1-CZQQ_AUIBCgA\">ALL</a></td><td class=\"EY24We\"><span class=\"QIqI7\">IMAGES</span></td><td><a class=\"CsQyDc\" href=\"/search?q=bible&amp;sca_esv=ffb514d24184130b&amp;sca_upv=1&amp;rlz=1C1CHBD_enIN1096IN1096&amp;biw=1366&amp;bih=641&amp;ie=UTF-8&amp;tbm=bks&amp;source=lnms&amp;sa=X&amp;ved=0ahUKEwi_5dDGkrmEAxW--jgGHS1-CZQQ_AUIBigC\">BOOKS</a></td><td><a class=\"CsQyDc\" href=\"/search?q=bible&amp;sca_esv=ffb514d24184130b&amp;sca_upv=1&amp;rlz=1C1CHBD_enIN1096IN1096&amp;biw=1366&amp;bih=641&amp;ie=UTF-8&amp;tbm=vid&amp;source=lnms&amp;sa=X&amp;ved=0ahUKEwi_5dDGkrmEAxW--jgGHS1-CZQQ_AUIBygD\">VIDEOS</a></td></tr></tbody></table></div></div><div class=\"X6ZCif\"><a class=\"TwVfHd\" href=\"/search?sca_esv=ffb514d24184130b&amp;sca_upv=1&amp;rlz=1C1CHBD_enIN1096IN1096&amp;biw=1366&amp;bih=641&amp;ie=UTF-8&amp;tbm=isch&amp;q=bible&amp;chips=q:bible,g_1:background&amp;sa=X&amp;ved=0ahUKEwi_5dDGkrmEAxW--jgGHS1-CZQQ4lYICygA\">background</a><a class=\"TwVfHd\" href=\"/search?sca_esv=ffb514d24184130b&amp;sca_upv=1&amp;rlz=1C1CHBD_enIN1096IN1096&amp;biw=1366&amp;bih=641&amp;ie=UTF-8&amp;tbm=isch&amp;q=bible&amp;chips=q:bible,g_1:clip+art&amp;sa=X&amp;ved=0ahUKEwi_5dDGkrmEAxW--jgGHS1-CZQQ4lYIDCgB\">clip art</a><a class=\"TwVfHd\" href=\"/search?sca_esv=ffb514d24184130b&amp;sca_upv=1&amp;rlz=1C1CHBD_enIN1096IN1096&amp;biw=1366&amp;bih=641&amp;ie=UTF-8&amp;tbm=isch&amp;q=bible&amp;chips=q:bible,g_1:verse&amp;sa=X&amp;ved=0ahUKEwi_5dDGkrmEAxW--jgGHS1-CZQQ4lYIDSgC\">verse</a><a class=\"TwVfHd\" href=\"/search?sca_esv=ffb514d24184130b&amp;sca_upv=1&amp;rlz=1C1CHBD_enIN1096IN1096&amp;biw=1366&amp;bih=641&amp;ie=UTF-8&amp;tbm=isch&amp;q=bible&amp;chips=q:bible,g_1:reading&amp;sa=X&amp;ved=0ahUKEwi_5dDGkrmEAxW--jgGHS1-CZQQ4lYIDigD\">reading</a><a class=\"TwVfHd\" href=\"/search?sca_esv=ffb514d24184130b&amp;sca_upv=1&amp;rlz=1C1CHBD_enIN1096IN1096&amp;biw=1366&amp;bih=641&amp;ie=UTF-8&amp;tbm=isch&amp;q=bible&amp;chips=q:bible,g_1:holy&amp;sa=X&amp;ved=0ahUKEwi_5dDGkrmEAxW--jgGHS1-CZQQ4lYIDygE\">holy</a><a class=\"TwVfHd\" href=\"/search?sca_esv=ffb514d24184130b&amp;sca_upv=1&amp;rlz=1C1CHBD_enIN1096IN1096&amp;biw=1366&amp;bih=641&amp;ie=UTF-8&amp;tbm=isch&amp;q=bible&amp;chips=q:bible,g_1:open&amp;sa=X&amp;ved=0ahUKEwi_5dDGkrmEAxW--jgGHS1-CZQQ4lYIECgF\">open</a><a class=\"TwVfHd\" href=\"/search?sca_esv=ffb514d24184130b&amp;sca_upv=1&amp;rlz=1C1CHBD_enIN1096IN1096&amp;biw=1366&amp;bih=641&amp;ie=UTF-8&amp;tbm=isch&amp;q=bible&amp;chips=q:bible,g_1:book&amp;sa=X&amp;ved=0ahUKEwi_5dDGkrmEAxW--jgGHS1-CZQQ4lYIESgG\">book</a><a class=\"TwVfHd\" href=\"/search?sca_esv=ffb514d24184130b&amp;sca_upv=1&amp;rlz=1C1CHBD_enIN1096IN1096&amp;biw=1366&amp;bih=641&amp;ie=UTF-8&amp;tbm=isch&amp;q=bible&amp;chips=q:bible,g_1:love&amp;sa=X&amp;ved=0ahUKEwi_5dDGkrmEAxW--jgGHS1-CZQQ4lYIEigH\">love</a><a class=\"TwVfHd\" href=\"/search?sca_esv=ffb514d24184130b&amp;sca_upv=1&amp;rlz=1C1CHBD_enIN1096IN1096&amp;biw=1366&amp;bih=641&amp;ie=UTF-8&amp;tbm=isch&amp;q=bible&amp;chips=q:bible,g_1:church&amp;sa=X&amp;ved=0ahUKEwi_5dDGkrmEAxW--jgGHS1-CZQQ4lYIEygI\">church</a><a class=\"TwVfHd\" href=\"/search?sca_esv=ffb514d24184130b&amp;sca_upv=1&amp;rlz=1C1CHBD_enIN1096IN1096&amp;biw=1366&amp;bih=641&amp;ie=UTF-8&amp;tbm=isch&amp;q=bible&amp;chips=q:bible,g_1:god&amp;sa=X&amp;ved=0ahUKEwi_5dDGkrmEAxW--jgGHS1-CZQQ4lYIFCgJ\">god</a></div><div><table class=\"GpQGbf\"><tr><td align=\"center\" class=\"e3goi\"><div class=\"jjVJ4e\"> <div> <div class=\"lIMUZd\"><div><table class=\"RntSmf\"><tr><td><a href=\"/url?q=https://en.wikipedia.org/wiki/Bible&amp;sa=U&amp;ved=2ahUKEwi_5dDGkrmEAxW--jgGHS1-CZQQqoUBegQICBAB&amp;usg=AOvVaw13FVM34z54Hu60kNT0GotK\"><div class=\"kCmkOe\"><img alt=\"\" class=\"DS1iW\" src=\"https://encrypted-tbn0.gstatic.com/images?q=tbn:ANd9GcQszU32VehNHr-VVGdYso9EqRxSB3sGjedUF442CdofPIjuHSHSamSt4qaj_4I&amp;s\"/></div></a></td></tr><tr><td><a href=\"/url?q=https://en.wikipedia.org/wiki/Bible&amp;sa=U&amp;ved=2ahUKEwi_5dDGkrmEAxW--jgGHS1-CZQQr4kDegQICBAC&amp;usg=AOvVaw1p9TK98AeApnoRrkdmWxIY\"><div class=\"AlD19d\"> <span class=\"qXLe6d x3G5ab\"> <span class=\"fYyStc\">Bible - Wikipedia</span> </span> <span class=\"qXLe6d F9iS2e\"> <span class=\"fYyStc\">en.wikipedia.org</span> </span> </div></a></td></tr></table></div></div> </div> </div></td><td align=\"center\" class=\"e3goi\"><div class=\"jjVJ4e\"> <div> <div class=\"lIMUZd\"><div><table class=\"RntSmf\"><tr><td><a href=\"/url?q=https://simple.wikipedia.org/wiki/Bible&amp;sa=U&amp;ved=2ahUKEwi_5dDGkrmEAxW--jgGHS1-CZQQqoUBegQIEhAB&amp;usg=AOvVaw3HRloGtXQZfy2VMC3B80T4\"><div class=\"kCmkOe\"><img alt=\"\" class=\"DS1iW\" src=\"https://encrypted-tbn0.gstatic.com/images?q=tbn:ANd9GcRMyRT6MnJiNg2l8Ngcz6-gqvjgDaBysYbtFGLxBRRkO0ie6doyxtDEgIJ7y8M&amp;s\"/></div></a></td></tr><tr><td><a href=\"/url?q=https://simple.wikipedia.org/wiki/Bible&amp;sa=U&amp;ved=2ahUKEwi_5dDGkrmEAxW--jgGHS1-CZQQr4kDegQIEhAC&amp;usg=AOvVaw2IAJgS0U1xkj3p3yHObbBZ\"><div class=\"AlD19d\"> <span class=\"qXLe6d x3G5ab\"> <span class=\"fYyStc\">Bible - Simple English...</span> </span> <span class=\"qXLe6d F9iS2e\"> <span class=\"fYyStc\">simple.wikipedia.org</span> </span> </div></a></td></tr></table></div></div> </div> </div></td><td align=\"center\" class=\"e3goi\"><div class=\"jjVJ4e\"> <div> <div class=\"lIMUZd\"><div><table class=\"RntSmf\"><tr><td><a href=\"/url?q=https://www.freepik.com/free-photos-vectors/bible-background&amp;sa=U&amp;ved=2ahUKEwi_5dDGkrmEAxW--jgGHS1-CZQQqoUBegQIExAB&amp;usg=AOvVaw0QzrD7RjIZ-x-iMN2Xgnwe\"><div class=\"kCmkOe\"><img alt=\"\" class=\"DS1iW\" src=\"https://encrypted-tbn0.gstatic.com/images?q=tbn:ANd9GcRBJHEpHjMJHektRbPEPoaPRFEcTjjNoB8RZgkqp4UMfmOabBjjMWg2-3IJaA&amp;s\"/></div></a></td></tr><tr><td><a href=\"/url?q=https://www.freepik.com/free-photos-vectors/bible-background&amp;sa=U&amp;ved=2ahUKEwi_5dDGkrmEAxW--jgGHS1-CZQQr4kDegQIExAC&amp;usg=AOvVaw2YsY_z_PYLlnkkcXDbN5Ja\"><div class=\"AlD19d\"> <span class=\"qXLe6d x3G5ab\"> <span class=\"fYyStc\">Bible Background Images -...</span> </span> <span class=\"qXLe6d F9iS2e\"> <span class=\"fYyStc\">www.freepik.com</span> </span> </div></a></td></tr></table></div></div> </div> </div></td><td align=\"center\" class=\"e3goi\"><div class=\"jjVJ4e\"> <div> <div class=\"lIMUZd\"><div><table class=\"RntSmf\"><tr><td><a href=\"/url?q=https://www.popularmechanics.com/science/archaeology/a43554307/scientists-discover-hidden-chapter-in-bible/&amp;sa=U&amp;ved=2ahUKEwi_5dDGkrmEAxW--jgGHS1-CZQQqoUBegQIERAB&amp;usg=AOvVaw1-VjZBqobyGgnotF3kcJba\"><div class=\"kCmkOe\"><img alt=\"\" class=\"DS1iW\" src=\"https://encrypted-tbn0.gstatic.com/images?q=tbn:ANd9GcSFTPmjuNg3VvjKeIKRU4Z8GAzUoZCnCx0AeFQM3xi6CICtQA5Oc6sFX-I1jg&amp;s\"/></div></a></td></tr><tr><td><a href=\"/url?q=https://www.popularmechanics.com/science/archaeology/a43554307/scientists-discover-hidden-chapter-in-bible/&amp;sa=U&amp;ved=2ahUKEwi_5dDGkrmEAxW--jgGHS1-CZQQr4kDegQIERAC&amp;usg=AOvVaw0RYg0OF3sVCrEGgdP6cLM2\"><div class=\"AlD19d\"> <span class=\"qXLe6d x3G5ab\"> <span class=\"fYyStc\">Scientists Discover Hidden...</span> </span> <span class=\"qXLe6d F9iS2e\"> <span class=\"fYyStc\">www.popularmechanics.com</span> </span> </div></a></td></tr></table></div></div> </div> </div></td></tr><tr><td align=\"center\" class=\"e3goi\"><div class=\"jjVJ4e\"> <div> <div class=\"lIMUZd\"><div><table class=\"RntSmf\"><tr><td><a href=\"/url?q=https://www.latimes.com/opinion/story/2021-12-24/updated-nrsv-bibles-20-000-revisions-should-spark-20-000-conversations&amp;sa=U&amp;ved=2ahUKEwi_5dDGkrmEAxW--jgGHS1-CZQQqoUBegQIEBAB&amp;usg=AOvVaw0rnC96-agSrjFkebjKREwX\"><div class=\"kCmkOe\"><img alt=\"\" class=\"DS1iW\" src=\"https://encrypted-tbn0.gstatic.com/images?q=tbn:ANd9GcSlTGQFtR4hids4809G1hwHWGK16TPQXqMLYtiOzHXiIS56np_2aMAo3ZDY6do&amp;s\"/></div></a></td></tr><tr><td><a href=\"/url?q=https://www.latimes.com/opinion/story/2021-12-24/updated-nrsv-bibles-20-000-revisions-should-spark-20-000-conversations&amp;sa=U&amp;ved=2ahUKEwi_5dDGkrmEAxW--jgGHS1-CZQQr4kDegQIEBAC&amp;usg=AOvVaw3cmdX36xpsnH6k2NUQHUU2\"><div class=\"AlD19d\"> <span class=\"qXLe6d x3G5ab\"> <span class=\"fYyStc\">Op-Ed: A new edition of the...</span> </span> <span class=\"qXLe6d F9iS2e\"> <span class=\"fYyStc\">www.latimes.com</span> </span> </div></a></td></tr></table></div></div> </div> </div></td><td align=\"center\" class=\"e3goi\"><div class=\"jjVJ4e\"> <div> <div class=\"lIMUZd\"><div><table class=\"RntSmf\"><tr><td><a href=\"/url?q=https://www.desiringgod.org/articles/resolved-to-read-the-bible&amp;sa=U&amp;ved=2ahUKEwi_5dDGkrmEAxW--jgGHS1-CZQQqoUBegQIDRAB&amp;usg=AOvVaw3LrWRkJT1yNH3kwWRaS-gV\"><div class=\"kCmkOe\"><img alt=\"\" class=\"DS1iW\" src=\"https://encrypted-tbn0.gstatic.com/images?q=tbn:ANd9GcQeTfUCjQbqP7kFPhmUCyrTLc-blM-yJ3UJnm7huBgPBJFh4KTCzG-CRUD0hxw&amp;s\"/></div></a></td></tr><tr><td><a href=\"/url?q=https://www.desiringgod.org/articles/resolved-to-read-the-bible&amp;sa=U&amp;ved=2ahUKEwi_5dDGkrmEAxW--jgGHS1-CZQQr4kDegQIDRAC&amp;usg=AOvVaw0WA2FggrMQzk_U1LTtPo51\"><div class=\"AlD19d\"> <span class=\"qXLe6d x3G5ab\"> <span class=\"fYyStc\">Resolved: To Read the Bible...</span> </span> <span class=\"qXLe6d F9iS2e\"> <span class=\"fYyStc\">www.desiringgod.org</span> </span> </div></a></td></tr></table></div></div> </div> </div></td><td align=\"center\" class=\"e3goi\"><div class=\"jjVJ4e\"> <div> <div class=\"lIMUZd\"><div><table class=\"RntSmf\"><tr><td><a href=\"/url?q=https://nationaltoday.com/national-bible-day/&amp;sa=U&amp;ved=2ahUKEwi_5dDGkrmEAxW--jgGHS1-CZQQqoUBegQICRAB&amp;usg=AOvVaw2rpGBuEnUkAiZ5Fa2wdM7h\"><div class=\"kCmkOe\"><img alt=\"\" class=\"DS1iW\" src=\"https://encrypted-tbn0.gstatic.com/images?q=tbn:ANd9GcRR0jE6Wtko_gcgMuSLzuSf1oJov3dx6cAVkztHFVgwxt2CxwJLLM5sCHRcVvY&amp;s\"/></div></a></td></tr><tr><td><a href=\"/url?q=https://nationaltoday.com/national-bible-day/&amp;sa=U&amp;ved=2ahUKEwi_5dDGkrmEAxW--jgGHS1-CZQQr4kDegQICRAC&amp;usg=AOvVaw04ERBOxaTqTF5h968kmfTF\"><div class=\"AlD19d\"> <span class=\"qXLe6d x3G5ab\"> <span class=\"fYyStc\">NATIONAL BIBLE DAY -...</span> </span> <span class=\"qXLe6d F9iS2e\"> <span class=\"fYyStc\">nationaltoday.com</span> </span> </div></a></td></tr></table></div></div> </div> </div></td><td align=\"center\" class=\"e3goi\"><div class=\"jjVJ4e\"> <div> <div class=\"lIMUZd\"><div><table class=\"RntSmf\"><tr><td><a href=\"/url?q=https://www.britannica.com/topic/Bible&amp;sa=U&amp;ved=2ahUKEwi_5dDGkrmEAxW--jgGHS1-CZQQqoUBegQIChAB&amp;usg=AOvVaw2KDEjI06TMaB7vJdfzgant\"><div class=\"kCmkOe\"><img alt=\"\" class=\"DS1iW\" src=\"https://encrypted-tbn0.gstatic.com/images?q=tbn:ANd9GcQqjcOLkrSZzIy8_le24gCmVKR8jdMXjqdC-xxKhCjwB5cz9DPHZQlwYOK9YA&amp;s\"/></div></a></td></tr><tr><td><a href=\"/url?q=https://www.britannica.com/topic/Bible&amp;sa=U&amp;ved=2ahUKEwi_5dDGkrmEAxW--jgGHS1-CZQQr4kDegQIChAC&amp;usg=AOvVaw0aJiui8SuddODbRrkLmNEX\"><div class=\"AlD19d\"> <span class=\"qXLe6d x3G5ab\"> <span class=\"fYyStc\">Bible | Description,...</span> </span> <span class=\"qXLe6d F9iS2e\"> <span class=\"fYyStc\">www.britannica.com</span> </span> </div></a></td></tr></table></div></div> </div> </div></td></tr><tr><td align=\"center\" class=\"e3goi\"><div class=\"jjVJ4e\"> <div> <div class=\"lIMUZd\"><div><table class=\"RntSmf\"><tr><td><a href=\"/url?q=https://news.gallup.com/poll/394262/fewer-bible-literal-word-god.aspx&amp;sa=U&amp;ved=2ahUKEwi_5dDGkrmEAxW--jgGHS1-CZQQqoUBegQIDxAB&amp;usg=AOvVaw2ux0WCZuFCicfagEp0APwL\"><div class=\"kCmkOe\"><img alt=\"\" class=\"DS1iW\" src=\"https://encrypted-tbn0.gstatic.com/images?q=tbn:ANd9GcSGsC03605r_HqL6s_bUbO6KybOGsf_Yku2kA3wOkpvFPW2jvgbLCJZLTO1D1Q&amp;s\"/></div></a></td></tr><tr><td><a href=\"/url?q=https://news.gallup.com/poll/394262/fewer-bible-literal-word-god.aspx&amp;sa=U&amp;ved=2ahUKEwi_5dDGkrmEAxW--jgGHS1-CZQQr4kDegQIDxAC&amp;usg=AOvVaw0z74dUocNMY8iQ8NJI5u0o\"><div class=\"AlD19d\"> <span class=\"qXLe6d x3G5ab\"> <span class=\"fYyStc\">Fewer in U.S. Now See Bible...</span> </span> <span class=\"qXLe6d F9iS2e\"> <span class=\"fYyStc\">news.gallup.com</span> </span> </div></a></td></tr></table></div></div> </div> </div></td><td align=\"center\" class=\"e3goi\"><div class=\"jjVJ4e\"> <div> <div class=\"lIMUZd\"><div><table class=\"RntSmf\"><tr><td><a href=\"/url?q=https://openthebible.org/article/what-book-of-the-bible-should-a-new-believer-read-first/&amp;sa=U&amp;ved=2ahUKEwi_5dDGkrmEAxW--jgGHS1-CZQQqoUBegQICxAB&amp;usg=AOvVaw3A5VBboAjHQfN44n-cKE9w\"><div class=\"kCmkOe\"><img alt=\"\" class=\"DS1iW\" src=\"https://encrypted-tbn0.gstatic.com/images?q=tbn:ANd9GcRKpHbgp9fDKbpl7JVDjF55Xdfurh5h185EIZoqvmIl0quFgzT7OeiSYTB_9T0&amp;s\"/></div></a></td></tr><tr><td><a href=\"/url?q=https://openthebible.org/article/what-book-of-the-bible-should-a-new-believer-read-first/&amp;sa=U&amp;ved=2ahUKEwi_5dDGkrmEAxW--jgGHS1-CZQQr4kDegQICxAC&amp;usg=AOvVaw3m_yPrEyaQ54XIz9WVaFNs\"><div class=\"AlD19d\"> <span class=\"qXLe6d x3G5ab\"> <span class=\"fYyStc\">What Book of the Bible...</span> </span> <span class=\"qXLe6d F9iS2e\"> <span class=\"fYyStc\">openthebible.org</span> </span> </div></a></td></tr></table></div></div> </div> </div></td><td align=\"center\" class=\"e3goi\"><div class=\"jjVJ4e\"> <div> <div class=\"lIMUZd\"><div><table class=\"RntSmf\"><tr><td><a href=\"/url?q=https://www.catholic.com/encyclopedia/bible&amp;sa=U&amp;ved=2ahUKEwi_5dDGkrmEAxW--jgGHS1-CZQQqoUBegQIDhAB&amp;usg=AOvVaw0i1iKIVh9eE4-DZcll7dKv\"><div class=\"kCmkOe\"><img alt=\"\" class=\"DS1iW\" src=\"https://encrypted-tbn0.gstatic.com/images?q=tbn:ANd9GcROSeKjKOEYoBW9e7aFgJJIIx_0fk453uwM-MeQe0oDLQ5Ie8mr9DzHGYs9QRI&amp;s\"/></div></a></td></tr><tr><td><a href=\"/url?q=https://www.catholic.com/encyclopedia/bible&amp;sa=U&amp;ved=2ahUKEwi_5dDGkrmEAxW--jgGHS1-CZQQr4kDegQIDhAC&amp;usg=AOvVaw1Fk_MbscMy6SKARaVAzp6w\"><div class=\"AlD19d\"> <span class=\"qXLe6d x3G5ab\"> <span class=\"fYyStc\">Bible | Catholic Answers...</span> </span> <span class=\"qXLe6d F9iS2e\"> <span class=\"fYyStc\">www.catholic.com</span> </span> </div></a></td></tr></table></div></div> </div> </div></td><td align=\"center\" class=\"e3goi\"><div class=\"jjVJ4e\"> <div> <div class=\"lIMUZd\"><div><table class=\"RntSmf\"><tr><td><a href=\"/url?q=https://unsplash.com/images/religion/open-bible&amp;sa=U&amp;ved=2ahUKEwi_5dDGkrmEAxW--jgGHS1-CZQQqoUBegQIDBAB&amp;usg=AOvVaw2d8xOy9l3CJ3_ujEdUWct_\"><div class=\"kCmkOe\"><img alt=\"\" class=\"DS1iW\" src=\"https://encrypted-tbn0.gstatic.com/images?q=tbn:ANd9GcSFIWiw9PDBeJJlerhym55lcOK14pJG0jdRUmj95J3yFlwj8JZY77tAFYHXMDQ&amp;s\"/></div></a></td></tr><tr><td><a href=\"/url?q=https://unsplash.com/images/religion/open-bible&amp;sa=U&amp;ved=2ahUKEwi_5dDGkrmEAxW--jgGHS1-CZQQr4kDegQIDBAC&amp;usg=AOvVaw105rsV7FfYqHzFu-Vw2Elm\"><div class=\"AlD19d\"> <span class=\"qXLe6d x3G5ab\"> <span class=\"fYyStc\">350+ Best Open Bible...</span> </span> <span class=\"qXLe6d F9iS2e\"> <span class=\"fYyStc\">unsplash.com</span> </span> </div></a></td></tr></table></div></div> </div> </div></td></tr><tr><td align=\"center\" class=\"e3goi\"><div class=\"jjVJ4e\"> <div> <div class=\"lIMUZd\"><div><table class=\"RntSmf\"><tr><td><a href=\"/url?q=https://www.amazon.in/New-Catholic-Bible-Truth-Society/dp/1860824676&amp;sa=U&amp;ved=2ahUKEwi_5dDGkrmEAxW--jgGHS1-CZQQqoUBegQIAhAB&amp;usg=AOvVaw2mMsN4alrdA6eh3TcnXgpW\"><div class=\"kCmkOe\"><img alt=\"\" class=\"DS1iW\" src=\"https://encrypted-tbn0.gstatic.com/images?q=tbn:ANd9GcSYPfxuncibU7XIr4DuwOkIT8xeH1PNVxGnEJa14lLJOAzmqyHDNinxwf7Wxg&amp;s\"/></div></a></td></tr><tr><td><a href=\"/url?q=https://www.amazon.in/New-Catholic-Bible-Truth-Society/dp/1860824676&amp;sa=U&amp;ved=2ahUKEwi_5dDGkrmEAxW--jgGHS1-CZQQr4kDegQIAhAC&amp;usg=AOvVaw1rFHjF6FVTtyQXXiXXZ_By\"><div class=\"AlD19d\"> <span class=\"qXLe6d x3G5ab\"> <span class=\"fYyStc\">Buy New Catholic Bible:...</span> </span> <span class=\"qXLe6d F9iS2e\"> <span class=\"fYyStc\">www.amazon.in</span> </span> </div></a></td></tr></table></div></div> </div> </div></td><td align=\"center\" class=\"e3goi\"><div class=\"jjVJ4e\"> <div> <div class=\"lIMUZd\"><div><table class=\"RntSmf\"><tr><td><a href=\"/url?q=https://www.amazon.com/Holy-Bible-Standard-Thumb-Burgundy/dp/1432102400&amp;sa=U&amp;ved=2ahUKEwi_5dDGkrmEAxW--jgGHS1-CZQQqoUBegQIBBAB&amp;usg=AOvVaw2BQWDaKWzlwHo-fijyvbVT\"><div class=\"kCmkOe\"><img alt=\"\" class=\"DS1iW\" src=\"https://encrypted-tbn0.gstatic.com/images?q=tbn:ANd9GcROCoW-KW-apmXsoRxsDxpnWLOFgm-10rKPp_EF6aDZyC2ErbP8YBm2WYGBig&amp;s\"/></div></a></td></tr><tr><td><a href=\"/url?q=https://www.amazon.com/Holy-Bible-Standard-Thumb-Burgundy/dp/1432102400&amp;sa=U&amp;ved=2ahUKEwi_5dDGkrmEAxW--jgGHS1-CZQQr4kDegQIBBAC&amp;usg=AOvVaw0aL5buN4a3HJnWgS_6HapL\"><div class=\"AlD19d\"> <span class=\"qXLe6d x3G5ab\"> <span class=\"fYyStc\">KJV Holy Bible, Standard...</span> </span> <span class=\"qXLe6d F9iS2e\"> <span class=\"fYyStc\">www.amazon.com</span> </span> </div></a></td></tr></table></div></div> </div> </div></td><td align=\"center\" class=\"e3goi\"><div class=\"jjVJ4e\"> <div> <div class=\"lIMUZd\"><div><table class=\"RntSmf\"><tr><td><a href=\"/url?q=https://www.linkedin.com/pulse/god-likes-gold-uses-value-bible-arthur-leger&amp;sa=U&amp;ved=2ahUKEwi_5dDGkrmEAxW--jgGHS1-CZQQqoUBegQIAxAB&amp;usg=AOvVaw02pmh9CObIPHobMc6HWoJM\"><div class=\"kCmkOe\"><img alt=\"\" class=\"DS1iW\" src=\"https://encrypted-tbn0.gstatic.com/images?q=tbn:ANd9GcQ3H3zjQK8a412jwCk914l9hERCMnCdaDrgnXszBDLTNu_xsmBfWoI9E_SL05c&amp;s\"/></div></a></td></tr><tr><td><a href=\"/url?q=https://www.linkedin.com/pulse/god-likes-gold-uses-value-bible-arthur-leger&amp;sa=U&amp;ved=2ahUKEwi_5dDGkrmEAxW--jgGHS1-CZQQr4kDegQIAxAC&amp;usg=AOvVaw3C48Bntdh5E0sU66JrDsW2\"><div class=\"AlD19d\"> <span class=\"qXLe6d x3G5ab\"> <span class=\"fYyStc\">God Likes Gold - The Uses...</span> </span> <span class=\"qXLe6d F9iS2e\"> <span class=\"fYyStc\">www.linkedin.com</span> </span> </div></a></td></tr></table></div></div> </div> </div></td><td align=\"center\" class=\"e3goi\"><div class=\"jjVJ4e\"> <div> <div class=\"lIMUZd\"><div><table class=\"RntSmf\"><tr><td><a href=\"/url?q=https://www.koklcms.org/our-ministries/outreach/on-line-foreign-language-bible-resources/&amp;sa=U&amp;ved=2ahUKEwi_5dDGkrmEAxW--jgGHS1-CZQQqoUBegQIBhAB&amp;usg=AOvVaw3n4RVEoY8NoUQWCF8b3jJ0\"><div class=\"kCmkOe\"><img alt=\"\" class=\"DS1iW\" src=\"https://encrypted-tbn0.gstatic.com/images?q=tbn:ANd9GcTlpv0qkNDqz9guaa_OrRXNN0aIAA33Uc6IhT5b3a6S2WVHFeO2SDmySsJvI4s&amp;s\"/></div></a></td></tr><tr><td><a href=\"/url?q=https://www.koklcms.org/our-ministries/outreach/on-line-foreign-language-bible-resources/&amp;sa=U&amp;ved=2ahUKEwi_5dDGkrmEAxW--jgGHS1-CZQQr4kDegQIBhAC&amp;usg=AOvVaw1CnNKWv5Q3aID2pZl4utg1\"><div class=\"AlD19d\"> <span class=\"qXLe6d x3G5ab\"> <span class=\"fYyStc\">On-Line &amp; Foreign Language...</span> </span> <span class=\"qXLe6d F9iS2e\"> <span class=\"fYyStc\">www.koklcms.org</span> </span> </div></a></td></tr></table></div></div> </div> </div></td></tr><tr><td align=\"center\" class=\"e3goi\"><div class=\"jjVJ4e\"> <div> <div class=\"lIMUZd\"><div><table class=\"RntSmf\"><tr><td><a href=\"/url?q=https://www.focusonthefamily.com/live-it-post/5-reasons-why-the-bible-is-true/&amp;sa=U&amp;ved=2ahUKEwi_5dDGkrmEAxW--jgGHS1-CZQQqoUBegQIARAB&amp;usg=AOvVaw2NPiKoH5u5_4RG3As4758w\"><div class=\"kCmkOe\"><img alt=\"\" class=\"DS1iW\" src=\"https://encrypted-tbn0.gstatic.com/images?q=tbn:ANd9GcQ2gdi4KwjOoM6VoxTgDh7281V-cEwgf1LZDgyF0AlSf3SVOXLclmMC9F4caFY&amp;s\"/></div></a></td></tr><tr><td><a href=\"/url?q=https://www.focusonthefamily.com/live-it-post/5-reasons-why-the-bible-is-true/&amp;sa=U&amp;ved=2ahUKEwi_5dDGkrmEAxW--jgGHS1-CZQQr4kDegQIARAC&amp;usg=AOvVaw3AvENE4o2FrZIONOXcOanq\"><div class=\"AlD19d\"> <span class=\"qXLe6d x3G5ab\"> <span class=\"fYyStc\">Is the Bible True? 5...</span> </span> <span class=\"qXLe6d F9iS2e\"> <span class=\"fYyStc\">www.focusonthefamily.com</span> </span> </div></a></td></tr></table></div></div> </div> </div></td><td align=\"center\" class=\"e3goi\"><div class=\"jjVJ4e\"> <div> <div class=\"lIMUZd\"><div><table class=\"RntSmf\"><tr><td><a href=\"/url?q=https://www.theknot.com/content/bible-verses-about-marriage&amp;sa=U&amp;ved=2ahUKEwi_5dDGkrmEAxW--jgGHS1-CZQQqoUBegQIBxAB&amp;usg=AOvVaw3wnLZrzUNdBiMa_awz9gbE\"><div class=\"kCmkOe\"><img alt=\"\" class=\"DS1iW\" src=\"https://encrypted-tbn0.gstatic.com/images?q=tbn:ANd9GcTdAXVan4mgfHc8-Zdqdl_xPvDoRDxwc7-Yjc90pcYjtDX3B51A-ApY6KGaEg&amp;s\"/></div></a></td></tr><tr><td><a href=\"/url?q=https://www.theknot.com/content/bible-verses-about-marriage&amp;sa=U&amp;ved=2ahUKEwi_5dDGkrmEAxW--jgGHS1-CZQQr4kDegQIBxAC&amp;usg=AOvVaw2YecGKNeqpMmDy4IygmPdC\"><div class=\"AlD19d\"> <span class=\"qXLe6d x3G5ab\"> <span class=\"fYyStc\">64 Bible Verses About Love...</span> </span> <span class=\"qXLe6d F9iS2e\"> <span class=\"fYyStc\">www.theknot.com</span> </span> </div></a></td></tr></table></div></div> </div> </div></td><td align=\"center\" class=\"e3goi\"><div class=\"jjVJ4e\"> <div> <div class=\"lIMUZd\"><div><table class=\"RntSmf\"><tr><td><a href=\"/url?q=https://www.christianity.com/wiki/bible/what-does-it-mean-that-the-bible-is-divinely-inspired.html&amp;sa=U&amp;ved=2ahUKEwi_5dDGkrmEAxW--jgGHS1-CZQQqoUBegQIABAB&amp;usg=AOvVaw0_mBnbWl7gWUM5XAYGhbzK\"><div class=\"kCmkOe\"><img alt=\"\" class=\"DS1iW\" src=\"https://encrypted-tbn0.gstatic.com/images?q=tbn:ANd9GcRzhzgcGxhP8pReLPdhkoidtMa-KAF1VbJ-FkdKsp3qzmm8-EfQuluJ_SJH4g&amp;s\"/></div></a></td></tr><tr><td><a href=\"/url?q=https://www.christianity.com/wiki/bible/what-does-it-mean-that-the-bible-is-divinely-inspired.html&amp;sa=U&amp;ved=2ahUKEwi_5dDGkrmEAxW--jgGHS1-CZQQr4kDegQIABAC&amp;usg=AOvVaw0V5eTO1ivfZ14_D4DdG6b-\"><div class=\"AlD19d\"> <span class=\"qXLe6d x3G5ab\"> <span class=\"fYyStc\">What Does it Mean That the...</span> </span> <span class=\"qXLe6d F9iS2e\"> <span class=\"fYyStc\">www.christianity.com</span> </span> </div></a></td></tr></table></div></div> </div> </div></td><td align=\"center\" class=\"e3goi\"><div class=\"jjVJ4e\"> <div> <div class=\"lIMUZd\"><div><table class=\"RntSmf\"><tr><td><a href=\"/url?q=https://www.britannica.com/topic/Bible&amp;sa=U&amp;ved=2ahUKEwi_5dDGkrmEAxW--jgGHS1-CZQQqoUBegQIBRAB&amp;usg=AOvVaw0liBc8b0Sj8FDGIIbCsYJE\"><div class=\"kCmkOe\"><img alt=\"\" class=\"DS1iW\" src=\"https://encrypted-tbn0.gstatic.com/images?q=tbn:ANd9GcTmoaZRZjxQ-uMDbsP0ikonUGmAdCRMumDOwGxbMoDKbUJQy-k4e6aatW6UiA&amp;s\"/></div></a></td></tr><tr><td><a href=\"/url?q=https://www.britannica.com/topic/Bible&amp;sa=U&amp;ved=2ahUKEwi_5dDGkrmEAxW--jgGHS1-CZQQr4kDegQIBRAC&amp;usg=AOvVaw1DqwdQDGXdFbiz8qenGlBO\"><div class=\"AlD19d\"> <span class=\"qXLe6d x3G5ab\"> <span class=\"fYyStc\">Bible | Description,...</span> </span> <span class=\"qXLe6d F9iS2e\"> <span class=\"fYyStc\">www.britannica.com</span> </span> </div></a></td></tr></table></div></div> </div> </div></td></tr></table></div><table class=\"uZgmoc\"><tbody><td><a class=\"frGj1b\" href=\"/search?q=bible&amp;sca_esv=ffb514d24184130b&amp;sca_upv=1&amp;rlz=1C1CHBD_enIN1096IN1096&amp;biw=1366&amp;bih=641&amp;ie=UTF-8&amp;tbm=isch&amp;ei=GzPUZf_rFb714-EPrfyloAk&amp;start=20&amp;sa=N\">Next &gt;</a></td></tbody></table><br/><div class=\"TuS8Ad\" data-ved=\"0ahUKEwi_5dDGkrmEAxW--jgGHS1-CZQQpyoIUg\"><style>.VYM29{font-weight:bold}</style><div align=\"center\" class=\"HddGcc\"><span class=\"VYM29\">Chennai, Tamil Nadu</span><span> - </span><span>From your IP address</span><span> - </span><a href=\"/url?q=https://support.google.com/websearch%3Fp%3Dws_settings_location%26hl%3Den-IN&amp;opi=89978449&amp;sa=U&amp;ved=0ahUKEwi_5dDGkrmEAxW--jgGHS1-CZQQty4IUw&amp;usg=AOvVaw1IRxXo8BbNvRGngd3KwnA7\">Learn more</a></div><div align=\"center\"><a class=\"rEM8G\" href=\"/url?q=https://accounts.google.com/ServiceLogin%3Fcontinue%3Dhttps://www.google.com/search%253Fsca_esv%253Dffb514d24184130b%2526sca_upv%253D1%2526rlz%253D1C1CHBD_enIN1096IN1096%2526sxsrf%253DACQVn09HHEaJtRtBkT-nWuLKWaMONTCOlQ:1708404821933%2526q%253Dbible%2526tbm%253Disch%2526source%253Dlnms%2526sa%253DX%2526ved%253D2ahUKEwizzKz0j7mEAxWXTWwGHSJ7D5gQ0pQJegQIDhAB%2526cshid%253D1708404975728059%2526biw%253D1366%2526bih%253D641%2526dpr%253D1%26hl%3Den&amp;opi=89978449&amp;sa=U&amp;ved=0ahUKEwi_5dDGkrmEAxW--jgGHS1-CZQQxs8CCFQ&amp;usg=AOvVaw3FSlQkEkq3sVKRt1hGp7hG\">Sign in</a></div><div><table class=\"bookcf\"><tbody class=\"InWNIe\"><tr><td><a class=\"rEM8G\" href=\"https://www.google.com/preferences?hl=en&amp;sa=X&amp;ved=0ahUKEwi_5dDGkrmEAxW--jgGHS1-CZQQv5YECFU\">Settings</a></td><td><a class=\"rEM8G\" href=\"https://www.google.com/intl/en_in/policies/privacy/\">Privacy</a></td><td><a class=\"rEM8G\" href=\"https://www.google.com/intl/en_in/policies/terms/\">Terms</a></td></tr></tbody></table></div></div><div> </div></body></html>"
      ]
     },
     "execution_count": 10,
     "metadata": {},
     "output_type": "execute_result"
    }
   ],
   "source": [
    "soup"
   ]
  },
  {
   "cell_type": "code",
   "execution_count": 12,
   "id": "712d986c-9d78-43d3-87cb-6d3ea936ecb4",
   "metadata": {},
   "outputs": [],
   "source": [
    "image_tags=soup.find_all(\"img\")"
   ]
  },
  {
   "cell_type": "code",
   "execution_count": 16,
   "id": "afe5207d-766a-4deb-9834-eb7741b0be6c",
   "metadata": {},
   "outputs": [],
   "source": [
    "del image_tags[0]"
   ]
  },
  {
   "cell_type": "code",
   "execution_count": 17,
   "id": "2d7697bf-bfcd-451d-817d-4bd44cb35c41",
   "metadata": {},
   "outputs": [
    {
     "data": {
      "text/plain": [
       "[<img alt=\"\" class=\"DS1iW\" src=\"https://encrypted-tbn0.gstatic.com/images?q=tbn:ANd9GcQszU32VehNHr-VVGdYso9EqRxSB3sGjedUF442CdofPIjuHSHSamSt4qaj_4I&amp;s\"/>,\n",
       " <img alt=\"\" class=\"DS1iW\" src=\"https://encrypted-tbn0.gstatic.com/images?q=tbn:ANd9GcRMyRT6MnJiNg2l8Ngcz6-gqvjgDaBysYbtFGLxBRRkO0ie6doyxtDEgIJ7y8M&amp;s\"/>,\n",
       " <img alt=\"\" class=\"DS1iW\" src=\"https://encrypted-tbn0.gstatic.com/images?q=tbn:ANd9GcRBJHEpHjMJHektRbPEPoaPRFEcTjjNoB8RZgkqp4UMfmOabBjjMWg2-3IJaA&amp;s\"/>,\n",
       " <img alt=\"\" class=\"DS1iW\" src=\"https://encrypted-tbn0.gstatic.com/images?q=tbn:ANd9GcSFTPmjuNg3VvjKeIKRU4Z8GAzUoZCnCx0AeFQM3xi6CICtQA5Oc6sFX-I1jg&amp;s\"/>,\n",
       " <img alt=\"\" class=\"DS1iW\" src=\"https://encrypted-tbn0.gstatic.com/images?q=tbn:ANd9GcSlTGQFtR4hids4809G1hwHWGK16TPQXqMLYtiOzHXiIS56np_2aMAo3ZDY6do&amp;s\"/>,\n",
       " <img alt=\"\" class=\"DS1iW\" src=\"https://encrypted-tbn0.gstatic.com/images?q=tbn:ANd9GcQeTfUCjQbqP7kFPhmUCyrTLc-blM-yJ3UJnm7huBgPBJFh4KTCzG-CRUD0hxw&amp;s\"/>,\n",
       " <img alt=\"\" class=\"DS1iW\" src=\"https://encrypted-tbn0.gstatic.com/images?q=tbn:ANd9GcRR0jE6Wtko_gcgMuSLzuSf1oJov3dx6cAVkztHFVgwxt2CxwJLLM5sCHRcVvY&amp;s\"/>,\n",
       " <img alt=\"\" class=\"DS1iW\" src=\"https://encrypted-tbn0.gstatic.com/images?q=tbn:ANd9GcQqjcOLkrSZzIy8_le24gCmVKR8jdMXjqdC-xxKhCjwB5cz9DPHZQlwYOK9YA&amp;s\"/>,\n",
       " <img alt=\"\" class=\"DS1iW\" src=\"https://encrypted-tbn0.gstatic.com/images?q=tbn:ANd9GcSGsC03605r_HqL6s_bUbO6KybOGsf_Yku2kA3wOkpvFPW2jvgbLCJZLTO1D1Q&amp;s\"/>,\n",
       " <img alt=\"\" class=\"DS1iW\" src=\"https://encrypted-tbn0.gstatic.com/images?q=tbn:ANd9GcRKpHbgp9fDKbpl7JVDjF55Xdfurh5h185EIZoqvmIl0quFgzT7OeiSYTB_9T0&amp;s\"/>,\n",
       " <img alt=\"\" class=\"DS1iW\" src=\"https://encrypted-tbn0.gstatic.com/images?q=tbn:ANd9GcROSeKjKOEYoBW9e7aFgJJIIx_0fk453uwM-MeQe0oDLQ5Ie8mr9DzHGYs9QRI&amp;s\"/>,\n",
       " <img alt=\"\" class=\"DS1iW\" src=\"https://encrypted-tbn0.gstatic.com/images?q=tbn:ANd9GcSFIWiw9PDBeJJlerhym55lcOK14pJG0jdRUmj95J3yFlwj8JZY77tAFYHXMDQ&amp;s\"/>,\n",
       " <img alt=\"\" class=\"DS1iW\" src=\"https://encrypted-tbn0.gstatic.com/images?q=tbn:ANd9GcSYPfxuncibU7XIr4DuwOkIT8xeH1PNVxGnEJa14lLJOAzmqyHDNinxwf7Wxg&amp;s\"/>,\n",
       " <img alt=\"\" class=\"DS1iW\" src=\"https://encrypted-tbn0.gstatic.com/images?q=tbn:ANd9GcROCoW-KW-apmXsoRxsDxpnWLOFgm-10rKPp_EF6aDZyC2ErbP8YBm2WYGBig&amp;s\"/>,\n",
       " <img alt=\"\" class=\"DS1iW\" src=\"https://encrypted-tbn0.gstatic.com/images?q=tbn:ANd9GcQ3H3zjQK8a412jwCk914l9hERCMnCdaDrgnXszBDLTNu_xsmBfWoI9E_SL05c&amp;s\"/>,\n",
       " <img alt=\"\" class=\"DS1iW\" src=\"https://encrypted-tbn0.gstatic.com/images?q=tbn:ANd9GcTlpv0qkNDqz9guaa_OrRXNN0aIAA33Uc6IhT5b3a6S2WVHFeO2SDmySsJvI4s&amp;s\"/>,\n",
       " <img alt=\"\" class=\"DS1iW\" src=\"https://encrypted-tbn0.gstatic.com/images?q=tbn:ANd9GcQ2gdi4KwjOoM6VoxTgDh7281V-cEwgf1LZDgyF0AlSf3SVOXLclmMC9F4caFY&amp;s\"/>,\n",
       " <img alt=\"\" class=\"DS1iW\" src=\"https://encrypted-tbn0.gstatic.com/images?q=tbn:ANd9GcTdAXVan4mgfHc8-Zdqdl_xPvDoRDxwc7-Yjc90pcYjtDX3B51A-ApY6KGaEg&amp;s\"/>,\n",
       " <img alt=\"\" class=\"DS1iW\" src=\"https://encrypted-tbn0.gstatic.com/images?q=tbn:ANd9GcRzhzgcGxhP8pReLPdhkoidtMa-KAF1VbJ-FkdKsp3qzmm8-EfQuluJ_SJH4g&amp;s\"/>,\n",
       " <img alt=\"\" class=\"DS1iW\" src=\"https://encrypted-tbn0.gstatic.com/images?q=tbn:ANd9GcTmoaZRZjxQ-uMDbsP0ikonUGmAdCRMumDOwGxbMoDKbUJQy-k4e6aatW6UiA&amp;s\"/>]"
      ]
     },
     "execution_count": 17,
     "metadata": {},
     "output_type": "execute_result"
    }
   ],
   "source": [
    "image_tags"
   ]
  },
  {
   "cell_type": "code",
   "execution_count": 18,
   "id": "ca93ca71-87cf-4f7b-8790-f6e0e9aab750",
   "metadata": {},
   "outputs": [
    {
     "data": {
      "text/plain": [
       "20"
      ]
     },
     "execution_count": 18,
     "metadata": {},
     "output_type": "execute_result"
    }
   ],
   "source": [
    "len(image_tags)"
   ]
  },
  {
   "cell_type": "code",
   "execution_count": 19,
   "id": "5bd8f44a-824e-4f87-8194-271c10bcacdc",
   "metadata": {},
   "outputs": [
    {
     "name": "stdout",
     "output_type": "stream",
     "text": [
      "https://encrypted-tbn0.gstatic.com/images?q=tbn:ANd9GcQszU32VehNHr-VVGdYso9EqRxSB3sGjedUF442CdofPIjuHSHSamSt4qaj_4I&s\n",
      "https://encrypted-tbn0.gstatic.com/images?q=tbn:ANd9GcRMyRT6MnJiNg2l8Ngcz6-gqvjgDaBysYbtFGLxBRRkO0ie6doyxtDEgIJ7y8M&s\n",
      "https://encrypted-tbn0.gstatic.com/images?q=tbn:ANd9GcRBJHEpHjMJHektRbPEPoaPRFEcTjjNoB8RZgkqp4UMfmOabBjjMWg2-3IJaA&s\n",
      "https://encrypted-tbn0.gstatic.com/images?q=tbn:ANd9GcSFTPmjuNg3VvjKeIKRU4Z8GAzUoZCnCx0AeFQM3xi6CICtQA5Oc6sFX-I1jg&s\n",
      "https://encrypted-tbn0.gstatic.com/images?q=tbn:ANd9GcSlTGQFtR4hids4809G1hwHWGK16TPQXqMLYtiOzHXiIS56np_2aMAo3ZDY6do&s\n",
      "https://encrypted-tbn0.gstatic.com/images?q=tbn:ANd9GcQeTfUCjQbqP7kFPhmUCyrTLc-blM-yJ3UJnm7huBgPBJFh4KTCzG-CRUD0hxw&s\n",
      "https://encrypted-tbn0.gstatic.com/images?q=tbn:ANd9GcRR0jE6Wtko_gcgMuSLzuSf1oJov3dx6cAVkztHFVgwxt2CxwJLLM5sCHRcVvY&s\n",
      "https://encrypted-tbn0.gstatic.com/images?q=tbn:ANd9GcQqjcOLkrSZzIy8_le24gCmVKR8jdMXjqdC-xxKhCjwB5cz9DPHZQlwYOK9YA&s\n",
      "https://encrypted-tbn0.gstatic.com/images?q=tbn:ANd9GcSGsC03605r_HqL6s_bUbO6KybOGsf_Yku2kA3wOkpvFPW2jvgbLCJZLTO1D1Q&s\n",
      "https://encrypted-tbn0.gstatic.com/images?q=tbn:ANd9GcRKpHbgp9fDKbpl7JVDjF55Xdfurh5h185EIZoqvmIl0quFgzT7OeiSYTB_9T0&s\n",
      "https://encrypted-tbn0.gstatic.com/images?q=tbn:ANd9GcROSeKjKOEYoBW9e7aFgJJIIx_0fk453uwM-MeQe0oDLQ5Ie8mr9DzHGYs9QRI&s\n",
      "https://encrypted-tbn0.gstatic.com/images?q=tbn:ANd9GcSFIWiw9PDBeJJlerhym55lcOK14pJG0jdRUmj95J3yFlwj8JZY77tAFYHXMDQ&s\n",
      "https://encrypted-tbn0.gstatic.com/images?q=tbn:ANd9GcSYPfxuncibU7XIr4DuwOkIT8xeH1PNVxGnEJa14lLJOAzmqyHDNinxwf7Wxg&s\n",
      "https://encrypted-tbn0.gstatic.com/images?q=tbn:ANd9GcROCoW-KW-apmXsoRxsDxpnWLOFgm-10rKPp_EF6aDZyC2ErbP8YBm2WYGBig&s\n",
      "https://encrypted-tbn0.gstatic.com/images?q=tbn:ANd9GcQ3H3zjQK8a412jwCk914l9hERCMnCdaDrgnXszBDLTNu_xsmBfWoI9E_SL05c&s\n",
      "https://encrypted-tbn0.gstatic.com/images?q=tbn:ANd9GcTlpv0qkNDqz9guaa_OrRXNN0aIAA33Uc6IhT5b3a6S2WVHFeO2SDmySsJvI4s&s\n",
      "https://encrypted-tbn0.gstatic.com/images?q=tbn:ANd9GcQ2gdi4KwjOoM6VoxTgDh7281V-cEwgf1LZDgyF0AlSf3SVOXLclmMC9F4caFY&s\n",
      "https://encrypted-tbn0.gstatic.com/images?q=tbn:ANd9GcTdAXVan4mgfHc8-Zdqdl_xPvDoRDxwc7-Yjc90pcYjtDX3B51A-ApY6KGaEg&s\n",
      "https://encrypted-tbn0.gstatic.com/images?q=tbn:ANd9GcRzhzgcGxhP8pReLPdhkoidtMa-KAF1VbJ-FkdKsp3qzmm8-EfQuluJ_SJH4g&s\n",
      "https://encrypted-tbn0.gstatic.com/images?q=tbn:ANd9GcTmoaZRZjxQ-uMDbsP0ikonUGmAdCRMumDOwGxbMoDKbUJQy-k4e6aatW6UiA&s\n"
     ]
    }
   ],
   "source": [
    "for i in image_tags:\n",
    "    print(i['src'])"
   ]
  },
  {
   "cell_type": "code",
   "execution_count": 22,
   "id": "ee8ade33-23c9-43e7-975e-a5093e41f8d8",
   "metadata": {},
   "outputs": [
    {
     "data": {
      "text/plain": [
       "b'\\xff\\xd8\\xff\\xe0\\x00\\x10JFIF\\x00\\x01\\x01\\x00\\x00\\x01\\x00\\x01\\x00\\x00\\xff\\xdb\\x00\\x84\\x00\\t\\x06\\x07\\x08\\x07\\x06\\t\\x08\\x07\\x08\\n\\n\\t\\x0b\\r\\x16\\x0f\\r\\x0c\\x0c\\r\\x1b\\x14\\x15\\x10\\x16 \\x1d\"\" \\x1d\\x1f\\x1f$(4,$&1\\'\\x1f\\x1f-=-157:::#+?D?8C49:7\\x01\\n\\n\\n\\r\\x0c\\r\\x1a\\x0f\\x0f\\x1a7%\\x1f%77777777777777777777777777777777777777777777777777\\xff\\xc0\\x00\\x11\\x08\\x00l\\x00\\xa2\\x03\\x01\"\\x00\\x02\\x11\\x01\\x03\\x11\\x01\\xff\\xc4\\x00\\x1c\\x00\\x00\\x01\\x05\\x01\\x01\\x01\\x00\\x00\\x00\\x00\\x00\\x00\\x00\\x00\\x00\\x00\\x03\\x01\\x02\\x04\\x05\\x06\\x00\\x07\\x08\\xff\\xc4\\x00:\\x10\\x00\\x02\\x01\\x02\\x04\\x03\\x05\\x05\\x07\\x03\\x04\\x03\\x00\\x00\\x00\\x00\\x01\\x02\\x03\\x00\\x11\\x04\\x05\\x12!1AQ\\x06\\x13\"aq2\\x81\\x91\\xd1\\xf0\\x07\\x14BR\\xa1\\xb1\\xc1#\\xe1\\xf1\\x153brCS\\xb2\\xff\\xc4\\x00\\x19\\x01\\x00\\x03\\x01\\x01\\x01\\x00\\x00\\x00\\x00\\x00\\x00\\x00\\x00\\x00\\x00\\x00\\x00\\x01\\x02\\x03\\x05\\x04\\xff\\xc4\\x00\\x1f\\x11\\x01\\x01\\x01\\x01\\x00\\x01\\x05\\x01\\x01\\x00\\x00\\x00\\x00\\x00\\x00\\x00\\x00\\x01\\x02\\x11\\x03\\x12!1AQ\"\\x04\\xff\\xda\\x00\\x0c\\x03\\x01\\x00\\x02\\x11\\x03\\x11\\x00?\\x00\\xf2&6\\xb0\\xbe\\xd46s\\xc6\\xacr\\xdc\\xa6L\\xc1\\xac\\xb2\\xaa\\x0eW\\x17\\xae\\xcd\\xf2\\x1cvT\\x04\\x93*\\xbc\\x06\\xdf\\xd5\\x8c\\xdc\\x0f^\\x95*\\xd6l\\xf9V\\xde\\xfb\\x9a\\xea\\xebR\\xda\\x84\\xba\\x9e\\xa6\\x9bJ(\\x01b\\xb7\\x00\\xd3\\xa07\\x8c\\n\\xe9\\xed\\xdd\\x12yW\\xa4v\\'\\xec\\x9f\\x1f\\x9aa\\x13\\x1d\\x9eL\\xf9~\\x19\\xc8d\\x80/\\xf5\\xa4^w\\xbf\\xb1\\xe5\\xc4\\xf9\\n8\\x18\\\\\\x06\\x03\\x1b\\x8f.0\\x18,V(\\xa7\\xb60\\xf04\\x9a}t\\x83jn\\x82\\xa4\\xab\\x02\\x18\\x1b\\x15\"\\xc4\\x1e\\x84W\\xd4\\x19^\\x1f\\x03\\x93\\xe0\\xa2\\xc0\\xe5p.\\x1f\\x0b\\x18\\xb0\\x0b\\xf3\\xe6|\\xea\\x97\\xb5\\xbd\\x8a\\xc9\\xfbP\\x0c\\xb2\\x0f\\xbaf\\x16\\xb2\\xe2\\xe2_k\\xfe\\xe3\\xf1~\\xfet\\xfd>\\xc3\\xaf\\x9fSz ^\\x95y\\xdaN\\xca\\xe6}\\x99\\xc4\\x08\\xf3\\x18\\x07t\\xc6\\xd1bc\\xde9=\\x0f#\\xe4j\\x9e\\xe0TU\\xc2( \\xd3\\x83\\x1a\\xee\"\\x94-\\xf9\\xd23\\x94\\xdf\\x8dv\\xd7\\xa5\\x08z\\xd2\\xe9\\xb7\\x1a\\x08\\xd2\\xb4\\xab\\x1d\\x15SU\\x10G\\xb5>\\x11\\x9a\\x00\\x1bQ#S\\xb1<)\\xf1\\xc6h\\xcb\"(\\xb5\\x8dT \\xee+\\xa9\\xf7=\\x05%\\x01K\\x95\\xe2_\\x0f0*m}\\xbd+W\\xf7\\xe9`\\xc2\\x94\\x91]\\xb0\\xb2-\\x9c\\x9d\\xe3;\\xde\\xc7\\xcf\\x8db\\xc0\\xb5\\\\e\\xd9\\x8b,-\\x04\\xbe(\\xd8ie\\'b=*k\\xa1\\xe4\\xc7\\xd8\\x99\\x9ff5`\\xd7\\x1f\\x93\\x1e\\xf6=\\x1a\\xe5\\xc3\\x03\\xa9\\x93\\xa9^\\xa0t\\xe2<\\xeb4+m\\x96af-\\xaf\\x03\\x89-\\x00\\xdd\\xa0,C\\x8e\\x9e\\xb5\\x9e\\xed>\\x00\\xe5\\xf9\\xb3\\xafw\\xa29\\x87}\\x18\\xe8\\x0f\\x11\\xee7\\xa7+\\xc5\\xbc\\xf3\\xde*\\xaaN_\\x82\\xc5fX\\xb8\\xf0\\x99~\\x1a\\\\N&Sd\\x8a%\\xb9?!\\xd4\\x9d\\x87:\\xb4\\xec\\x97e3>\\xd5b\\xccX\\x04\\t\\x87C\\xfdlT\\x83\\xc1\\x18\\xfe[\\xcb\\xf6\\xafz\\xec\\xdfg2\\x8e\\xc8\\xe0\\xbb\\x8c\\xba+\\xce\\xf6\\x12\\xe2\\x1fy%>g\\x90\\xf2\\x1bU3Pv\\x17\\xec\\xe7\\x07\\xd9\\xd5\\x8f2\\xce\\x8cx\\xac\\xccn\\xa9k\\xc7\\x01\\xff\\x00\\x8f\\xe6o?\\x87Z\\xda\\xcd\\x8ai|\\\\\\x17\\xa6\\xabTy&g$\\xb1\\x04\\xdb\\x97\\x0f\\xaf\\x9d\"\\xabw\\x8b~<\\xaei\\x83\\xf5\\x1b\\xea\\x04z^\\x9cN\\x91v#\\xa8 \\xdfji*|-d#\\x9d\\xb8\\xd2\\xb2\\xa8\\xb9#\\xc5\\xf9/\\xb7\\xad2H\\x98\\xe1\\xf1\\xb86\\xc2c0\\xd0\\xcd\\x04\\x83K\\xc50\\x05YO\\x91\\xacWn\\xbe\\xcep\\xd9\\x84?}\\xec\\xfc1A\\x8b\\x8d@0 \\n\\x92\\x806\\x1d\\x03y\\xf3\\xe7\\xd6\\xb5N\\xd7k\\x83\\xe6w\\xfd(\\xb0\\xe2\\x9a\"\\x01\\xd8y\\x9e?]ju:r\\xbeo\\x967\\x86G\\x8aTh\\xe4C\\xa5\\x91\\xc5\\x8a\\x9e\\x84W-zg\\xdb\\x06Y\\x19L\\x16m\\x85\\xc1\\r\\xdf\\xba\\xc4\\xce\\x84\\xdc_\\xd8\\x0c\\xbe\\xbb_\\x8f\\x01T\\x18O\\xb3\\xde\\xd1\\xe2p\\xf1\\xcc\\xb8(\\xd0>\\xe1$\\x99U\\x80\\xf3\\x1c\\xaa=5]e\\xd3\\x8d\\x13F\\xa1j\\xdcE\\xf6Y\\x9f\\xb4A\\x9a|\\x027\\xe42\\xb1#\\xde\\x16\\xd5[\\x99v/\\xb4\\x19H-6^\\xf3F?\\xf2a\\xcfx>\\x03\\x7f\\xd2\\x9f\\xa4u\\x99\\nQ\\x85\\xeaE\\xd6\\xd5\\xce\\x841\\x0e\\xa5H\\xe2\\x0e\\xc4S\\x86\\x9d\\x14p\\x88\\xa7p\\x0e\\xd4\\x97:\\x8d\\xb8\\x8eTE[\\xd8\\x9d\\xe8\\xaa\\xa3^\\xa3T\\x11l\\xd5\\xd53\\xc3\\xd0WQ\\xc2dT\\xde\\x88\\x86\\xc6\\x80\\x9bQ\\x94\\xd4;|\\xecY`1o\\x87\\x99YI\\xba\\xf9\\xf1\\x1d+s\\x94d9wl[\\x06\\xd9\\x96$\\xc4\\xb0\\xca\\xc5\\x91_\\xc5*\\x90<\\x00\\x93\\xe1\\x17\\xdfn\\x87\\x85\\xefX,\\xba$\\xc4bR7\\x97\\xbb\\xbf\\x06<=\\xf5\\xe8\\xfd\\x9d\\xec\\x9e3\\r\\x8b\\x87\\x15\\xf7\\xb58u!\\xaf\\x187\\'\\x95\\xa9\\xe5\\xcf\\xf3\\xe2f\\xf2\\xbd\\n%\\xc2\\xe5\\x98D\\xc0\\xe5\\xd1E\\x04Q.\\x94\\x8d\\x16\\xc1\\x7f\\xbd\\r\\x86\\xa7\\x1d\\xe4\\x96\\xd5\\xb9nDr\\xa1\\x04\\xf0\\x96\\x04h\\xde\\xe4r\\x1e\\x7f\\xad\\x129F\\x86\\xd5w\\xea\\x18\\xf0\\xfa\\xff\\x005O!\\xe1\\x18\\xddK\\xee}\\x8e`\\xfb\\xe9\\xc8\\xe5<$\\x16\\x17\\xddy\\x8fJFm\\x04\\xa1:\\xc16\\x1d\\x7f\\xb1\\xa6\\xb3\\x05\\xd6\\x15\\x81a\\xcfm\\x8503^&RF\\xb6;\\x82z|\\xe8`\\xdd\\x19\\x95\\xd5\\xad\\xc4\\x9e6\\xfehD\\x94;\\xec6;\\xf3\\x14\\x9a\\x8a/x\\x84q\\xb6\\xdc\\xbdh\\x023\\xeet\\xfb`\\xed\\xb56IA\\xe5w\\xb6\\xe1y\\xd0%k\\xdd\\x90x\\x9f\\xf0\\x0e7\\xf9T\\x8c<a\\x0e\\xb9\\x18\\x99-\\xbe\\xd7\\x03\\xd2\\x98: Le\\x1e\\xcc[r\\xbbr\\xe1\\xfc|*T\\x12:\\x12T\\xf8G\\xb5\\xb7\\x1aabow\\xba\\xaf\\x12\\xc2\\xde\\xe1Cf\\xb9_\\r\\x8d\\xf4\\x81\\xca\\x82K\\x8f\\x16\\xca\\xedo\\x10;\\x83\\xbf\\xce\\x9f\\xfe\\xa5\\xa5\\x94:jKn\\xcam\\xfb\\xfc\\xea\\x18a\\xa0p\\xb5\\xae\\x0fSB\\x8c\\xb4\\xb3\\xa8\\x89\\xa4\\x04\\x8b\\x82\\xb6\\xb0\\xebz\\r\\x94\\xedwa\\xb3,\\xd3\\x1d>o\\x97\\xe3>\\xfc\\xd2\\x1b\\x9c<\\xab\\xa1\\xd0rU\\xe4G\\xc3\\xdf^w<-\\x04\\x8d\\x1c\\xcaVEb\\xac\\x8c,T\\x8e \\xd7\\xd0\\xb1\\xc9\\xdd\\xa7u\\t\\x0baw{{>~\\xa6\\xb0\\xbfi\\xb9\\x04\\x18\\xac\\x01\\xcd0p\\xe9\\xc6BA\\x9a\\xc7y\\x13\\x99#\\xf3\\x0e7\\xe8*C\\xcc\\xae\\x10^\\xd7\\xa6\\xf7\\xd7K\\xdbz\\x0b3\\x81\\xa4\\x02oK\\x18$ia\\xbf*\\x0cn\\xf3\\xca\\xba\\x87\\xa1\\xba\\x8aZ\\t\\x95\\rj\"\\xbd\\x02\\x96\\xf5\\x9b\\xb15\\xc4\\xc8\\xe4(\\xc0\\x83\\xc3z\\xf5>\\xc1v\\x9c\\xcb\\x08\\xc2N\\xe3P\\x16\\x01\\x8f\\xb5^J\\x8dz\\x9f\\x97\\xe2d\\xc1\\xce\\xb3D\\xd6a\\xfa\\xd3\\x97\\x85\\xe4\\xf1\\xcf.x\\xfa\\x1a\"\\x18\\x06\\xc3\\x92-\\xf8\\x01\\xdf\\xd7\\xce\\xb8\\x00}\\x93\\x7f+\\xda\\xde\\x7f_\\xe75\\xd9~\\xd0G\\x99\\xe1P\\x87\\x08\\xc0Y\\xee}\\x93\\xd7\\xeb\\xfc\\xdfK pI\\x16\\x8d\\xc5\\xc9\\x0bb\\xde\\x7f\\xa5i\\x1c\\xadf\\xe6\\xf2\\x8e\\xcf\\xa5J\\xa1\\xd2M\\xae\\xe3\\x81\\xe7aM\\xd4.X\\x1d\\xb6^\\xbf_^\\xf8\\xd7\\xb8\\x01\\x80$\\x1b\\xf8\\x8f\\r\\xad\\xf2\\xa7\\xb6\\x9d&h\\xc9(\\xc6\\xc6\\xfb\\xe9\\xe3\\xb7\\xa5\\tH\\xef\\x95\\xc1\\x05\\x88^:\\xefm$\\xef\\xb7\\x95\\x05\\x9d\\xd6^\\xefr\\xc7b\\xa3\\x98\\xf9P\\x0b\\x19YcQ\\xa9\\x86\\xd6\\xe5n\\xbf\\xcf\\xd5\\xead @\\x15w,\\x06\\x9dC\\x8d\\xba\\n\\x01\\xd0G\\xdc\\xb17\\xd5!\\xfcDl<\\xa8\\xca\\xfe-L\\xe3E\\xf7$^\\x9a\\xcc@.\\xecmq\\xb9\\xb8\\x03\\xd2\\xf4\\xc4`\\xe2\\xef\\x19FPM\\x97\\xc5\\xb7\"|\\xedj`MZ\\x97\\xc44\\x8b\\x1b\\x1e@y\\x9ar\\x1dW\\x0e\\xe0X\\\\m\\xe1\\xe1\\xcf\\xa7\\xadG\\x0eF\\xd6:\\xad\\xbd\\xd4\\xdc\\x9aq,\\xe6\\xc9s\\xe2\\x16\\x07{\\xdc^\\xc4\\n\\t\\'S3\\xe9x\\x8d\\xdbe1~/\\xe0\\xd4\\xb4\\xb6\\x121\\x1a\\xbe\\xa9\\x1a\\xedrvQ\\xd4\\xf9S\\x11W\\x06\\xa5\\x8d\\xdeiO\\x85\\t\\xde\\xff\\x00!\\xd6\\xa1bd\\x12j\\xf1\\x02\\xa4\\xf8\\xda\\xdf\\xee\\x1e\\x9f\\xf5\\x1c<\\xfe5\\x9e\\xb5\\xc5H?\\xdeC(1\\xea\\xd1\\xab\\xc0\\x0f\\x17?\\x98\\xff\\x00\\x1f\\x1e\\x94\\x07O\\xbe\\xe1\\xf1QE:,\\xa5\\x19;\\xd2\\xba\\x821\\x1d:UF;\\x1b$\\x93\\x1c>\\x19\\xbf\\xa8\\xdb\\xbb~E\\xa9Q\\xf7x\\x1c2i\\x01\\xa4o\\x12\\xaboc\\xff\\x00*X\\xbf\\xa3O \\xc4\\xc36\\x03\\x19.\\x0b\\x19\\x1e\\x89\\xe1m\\x0c<\\xc7\\xf0x\\xde\\x80\\xd7\\x07P\\x1f\\n\\xbe\\xfbI\\x9e)\\xb3,$\\xb06\\xack\\x02\\xb8\\xa5\\x1b\\x826\\xd2O\\x98\\xdczZ\\xb3q\\xab\\x13\\xe2$\\x0e]j\\xc8_\\x15-%\\x87\\xfe\\xcaZ\\x03\\']jAN\\xe7Y\\xba\\xe6\\x8d\\x8dH\\x89\\xef\\xc6\\x83jr\\xech^{\\x17Y6g6Y\\x8aY\\xa2&\\xd7\\xf1/\"+\\xd7\\xf2<t9\\x96\\x1110\\xb9e$^07\\x1f_\\\\\\xab\\xc3U\\xc8\\xad\\x17e;C&O\\x8d\\x16\\xbbB\\xe6\\xd2\\'_O:r\\xf1\\x9f\\xfa|Sy\\xec\\xf9{\\x00r\\xac\\x03\\xd9\\x83\\xed\\xc4\\x12\\x05\\xc7\\xc2\\x84\\xb2;\\xb0H\\xbcZ\\x85\\xba\\x0bq?_G\\xa2u\\xc7a\\xe3\\x9f\\x04D\\x91N\\x07\\x01\\xc3\\x7f\\xaf\\xab\\xdc\\xee\\x8d\\x84@\\xbaZ\\xff\\x00\\x89\\xfc\\xfc\\xcf!Z\\xc7$D^\\xe5<>+\\xf16;\\xf9zmJ\\xa4\\xdc\\xef\\xa7N\\xecG*\\x8a\\x98\\x84a\\xab\\xbc*m~\\x1b[\\xad5\\xb1~\\xc8Du\\x06\\xfbp7\\xb6\\xd7\\xf9P\\x13\\x0c\\xc1\\x8a\\xa3\\\\*\\xef\\xc7\\xaf\\xd0\\xa2G\\xb9]/`w$\\xf0\\x16\\x1c\\xfeu^q$\\xa8\\xd2.\\xdbZ\\xc4\\x83o\\xe7\\xd6\\x8a\\xb2j!n\\x030\\x04\\x0e\\x16=7\\xe7\\xc7j\\x02v\\xb7G\\x00l\\xc1\\xbcm\\xc6\\xf7\\xfd\\xf6\\xfd\\xea\\xc2$\\\\,\\x7fx\\x99\\x02\\xc8\\xdb\\x009\\xdf\\x80\\x03\\xadF\\xc0\\xafu\\x1f};X\\x81\\xb2\\x9e\\n>t\\xdcD\\xec\\xef\\xac\\xdc\\x11\\xec\\xf5Ao\\xfe\\x8f\\xe8*5\\xaeC\\x90\\xb8\\x99\\x19\\x99\\x8b\\x1b9\\xf0\\xb9\\x07\\xd9\\x1f\\x91O\\xeej\\xa30\\xc5:\\xa9\\x87\\rc%\\xac.6\\x1f_\\xdb\\xad31\\xc7\\x88Gw\\x1e\\xc6\\xd6\\x00\\x1e\\x1e\\x9e\\x7f\\xe7\\x98\\xa0\\xe1c\\xeeT\\xcd7\\xfb\\x84l\\xbf\\x94W\\x9e\\xd5\\x8f\\nE\\x80\\x89\\x9ek\\x99\\x1b\\xc5\\xd6\\xe7\\xaf\\xaf\\x95e\\xbbE\\xda6\\xc1_\\r\\x15\\x8e1\\xf77\\xdf\\xbb\\x1dO\\x9d;\\xb5\\xdd\\xa3\\x8b*\\x8fB0|a\\xf1\\x05<\"\\x07\\xf17\\x9fA^y\\x97\\xe2$\\xcc&\\x9f\\x12\\xc4\\x90x3\\xeeX\\xf3&\\xb5\\xc6~\\xea-X gc$\\xce]\\xd8\\xdc\\xb1;\\xde\\x90++\\x91\\xc4\\xd1a\\xf1X[~\\x94\\xad\\xbb\\x1d\\xacyy\\xd6\\xa4f\\x83\\xd0|+\\xa9\\xfd\\xe9\\xfc\\xb4\\xb4\\x06$\\x1ax4\\x10m]\\xae\\xb2t\\xe6\\xf8\\x91qJ\\x1cu\\xa8\\xa5\\x8d%\\xe9\\xf0\\xef\\x9d,\\xc9~\\x14\\\\;Y\\x81\\xe9\\xbdBC\\xbdI\\x88\\xefL\\xf3\\xafU\\xf7]\\x0e\\xd2\\xe2\\xa3\\xc1\\xc9\\x97<\\xce`y\\x84\\xc1Ci\\xb1\\x00\\x8bm\\xcbpm\\xd4U\\xd6Q\\xda\\x9c\\xc3\\x06\\x17\\xb9\\xc5K\\xa3\\xf2;w\\x89\\xf0;\\x8fq\\xac.+\\xda\\xbd,\\x18\\xa9a\\x00)\\x05z\\x1a\\xa8\\xe6\\xf9=\\xb7^\\xcd\\x97v\\xab\\x01\\x8f\\x88\\xa69~\\xed%\\xc5\\xe4At\\xf7\\xf3\\x1e\\xff\\x00\\x8d]\\xf7z\\xe1\\x12E\"M\\x19\\x1e\\x06K\\x15\\xf8_\\x85xl\\x19\\xa2\\xdck\\xd4\\x8c80<*\\xf7*\\xed\\x0e+\\x00\\xe6\\\\$\\xbb\\x9e!O\\x85\\xbf\\xec8\\x1f\\xdf\\xce\\x8e\\xd8\\x9e=7\\xbf\\xddH\\x00\\xa8\\xf6N\\xabs\\xabL\\xb6\\rd\\xcb ]7\\xf0\\xde\\xb1\\xd9_m2\\x9cV\\x8f\\xf5h[\\t\"\\xf1x\\xc1h\\xdb\\xdd\\xc4}oZA\\x9f\\xe0q1\\x01\\x82\\x9d\\x1a;Z\\xfd}\\xdc\\xfd\\x07\\xbe\\xd4\\xee\\xa0\\xe2\\xeal@a\\xa8\\x1b*\\xee\\t\\xf5\\xf6\\x8f\\xf09\\xd6\\x7f5\\xcf\\x17\\x0c\\xd1\\xc7\\x11\\x05\\xe5k\"\\x93\\x7fRz\\xff\\x00\\'\\xc8T,\\xcb7\\n\\x84\\xea\\x1aop\\t\\xb9\\'\\xa9\\xfa\\xf2\\x16\\x15\\x91\\xcdgiq8yg,\\xab&\\xa6N\\xa7p/X_z\\xbc\\xfc\\xb7\\x18V\\xc3\\xb4\\xef+\\xb6\\xb9\"\\xb7\\x86\\xf7\\x17\\xe6~5[\\xda\\xae\\xd1&U\\x05\\x97Kb\\xe5\\xde(\\xcf\\x05\\x1f\\x9c\\xf9~\\xf5ZsD\\xca\\xf0\\x0f\\x8bXu\\xc8\\xab\\xdd\\x85\\xde\\xccO\\x0b\\xdf\\xce\\xbc\\xcf8\\xcc\\xf1\\x18\\xec\\\\\\xd2O)/#\\x7fP\\x9d\\x89\\xf2\\xf2\\x1eU~\\x8f\\xeb\\xa5\\xab\\xf8\\x1eg\\x8e\\x97\\x1d\\x88vy\\x19\\xf5\\x12\\xce\\xed\\xc5\\xcfZ\\xbf\\xc8\\xe21ab\\xf0\\x9f\\x10\\xb9\\xda\\xb3\\x99~\\x1d\\xb1X\\xc8\\xf0\\xe9\\xc6Cbz\\n\\xde\\xf7\\xc9\\x84\\x8db\\x8a1\\xa4\\x0b\\\\\\x9a\\xdag\\xac\\xfa\\x0c\\xf1H\\xbb\\xa8>\\xb46\\x90\\x05\\x1a\\xb7\\xa3\\xc1\\x89mEX\\xa9\\xa4\\xc6(t\\xef\\x10i<\\xc5\\x17?\\x81\\x13Z\\xf9|k\\xa94\\x8e\\x8b]Ple\\xe9)E%K\\xd8\\xea\\xea\\xea\\xea\\x01\\xcah\\xf1\\x1b\\xb5F\\x14xM\\x8d\\xc7*\\x17\\x9aLX*\\xf6 \\x83\\xe7A\\x15\\xa3\\x8a$\\xcd2\\x85\\x9b\\x12\\xb6\\x969\\x9a0\\xe9\\xb1#M\\xfe5\\x9a\\x07\\xc2\\r[\\xc3\\xbb\\xddS\\xafOIZ3tk\\x1a\\x15u\\x04\\xb4\\x83\\x1a\\x1fi,\\rZe\\xd8\\xd90\\xf3\\x06\\x8d\\xbc\\xedz\\xcb\\xde\\xa5\\xe0\\xe5r\\xc1I\\xd8\\xfe\\x957*\\x95\\xe8\\xd8Uls\\x0cF(\\xe9\\x84n\\x16\\xfcM\\x0f1x\\xf1\\xd8\\xf8\\xd2\\xc3\\xfa)\\xa4/\\x0b_{P{*\\x9f|\\xc9\\xf1\\x92\\xcc\\xcd\\xae\\x12t\\x10z-\\xea.L\\xc6\\\\^\\xb9\\r\\xcb\\x9d\\xefS\\xce++\\xb9c\\x13\\xe0\\xa3H\\x81\\xfb\\xc0\\x16\\x8e;\\xda\\xef\\xcb\\xdfP\\xb2\\xa9\\x93\\x1b<\\xd1\\xe6\\x10+I\\x13\\x15\\xee\\xe4\\x881\\x04\\x1b\\x1b\\xdcU\\x9c\\xf0\\'v\\x93\\xee$\\x8d\\x95\\x81\\xf3\\xb8\\xa6\\xbe\\xdd\\xe6$\\x05\\x13K!.\\xe1@,O\\x1a\\xaa\\xae\\xaa3L\\x83\\x0f\\x94\\xca\\x99\\x8e\\x11\\x0cqJ\\n\\xb2\\r\\xd5OQ\\xd0\\x1e\\x948\\x87x\\r\\xc8*y\\x1a\\xbb\\x9b\\x193\\xe1d\\xc2\\xb9\\x0f\\x0b\\x8d\\xd5\\x85\\xeb3\\x94\\xca\\xe2G\\x8c\\xb1*\\xac@\\xbdk\\x8d}2\\xd4\\xe0\\xf2\\xc2\\xca\\xf7U\\xbf\\xa5I\\x89U\\xf0\\xb2\\x02\\n\\xb6\\x9e\\x14F\\x00\\xa8\\xb8\\x1b\\x1a\\x8e\\x84\\xa6\\xab\\x1e\"\\xaa\\xc4\\xc4?\\x17A\\xf0\\xae\\xa3\\xd8t\\x1f\\nZ\\xc4\\xdf\\xff\\xd9'"
      ]
     },
     "execution_count": 22,
     "metadata": {},
     "output_type": "execute_result"
    }
   ],
   "source": [
    "requests.get(\"https://encrypted-tbn0.gstatic.com/images?q=tbn:ANd9GcSlTGQFtR4hids4809G1hwHWGK16TPQXqMLYtiOzHXiIS56np_2aMAo3ZDY6do&s\").content"
   ]
  },
  {
   "cell_type": "code",
   "execution_count": 28,
   "id": "1446ee87-c22c-4d24-b2f3-1309a171317d",
   "metadata": {},
   "outputs": [],
   "source": [
    "save_dir=\"images/\"\n",
    "if not os.path.exists(save_dir):\n",
    "    os.makedirs(save_dir)"
   ]
  },
  {
   "cell_type": "code",
   "execution_count": 23,
   "id": "7eff87f5-dee0-4126-915a-a055b09507b9",
   "metadata": {},
   "outputs": [
    {
     "name": "stdout",
     "output_type": "stream",
     "text": [
      "0\n",
      "1\n",
      "2\n",
      "3\n",
      "4\n",
      "5\n",
      "6\n",
      "7\n",
      "8\n",
      "9\n",
      "10\n",
      "11\n",
      "12\n",
      "13\n",
      "14\n",
      "15\n",
      "16\n",
      "17\n",
      "18\n",
      "19\n"
     ]
    }
   ],
   "source": [
    "for i in image_tags:\n",
    "    print(image_tags.index(i))"
   ]
  },
  {
   "cell_type": "code",
   "execution_count": 32,
   "id": "de628c2f-3645-42da-8f06-99d495c534ad",
   "metadata": {},
   "outputs": [],
   "source": [
    "for i in image_tags:\n",
    "    image_url=i['src']\n",
    "    image_data=requests.get(image_url).content\n",
    "    with open(os.path.join(save_dir,f\"{query}_{image_tags.index(i)}.jpg\"),\"wb\") as f:\n",
    "        f.write(image_data)"
   ]
  },
  {
   "cell_type": "code",
   "execution_count": 35,
   "id": "8bcf7d0a-189d-4f7d-b7d3-f2e8624845f6",
   "metadata": {},
   "outputs": [],
   "source": [
    "query1=\"william carey\""
   ]
  },
  {
   "cell_type": "code",
   "execution_count": 36,
   "id": "6b5c3bc7-6028-4403-8334-e846a8147ad2",
   "metadata": {},
   "outputs": [],
   "source": [
    "response=requests.get(f\"https://www.google.com/search?sca_esv=ffb514d24184130b&sca_upv=1&rlz=1C1CHBD_enIN1096IN1096&sxsrf=ACQVn09HHEaJtRtBkT-nWuLKWaMONTCOlQ:1708404821933&q={query1}&tbm=isch&source=lnms&sa=X&ved=2ahUKEwizzKz0j7mEAxWXTWwGHSJ7D5gQ0pQJegQIDhAB&cshid=1708404975728059&biw=1366&bih=641&dpr=1\")"
   ]
  },
  {
   "cell_type": "code",
   "execution_count": 37,
   "id": "9bf8786e-943f-4a85-b33b-8f52064bea29",
   "metadata": {},
   "outputs": [
    {
     "data": {
      "text/plain": [
       "<Response [200]>"
      ]
     },
     "execution_count": 37,
     "metadata": {},
     "output_type": "execute_result"
    }
   ],
   "source": [
    "response"
   ]
  },
  {
   "cell_type": "code",
   "execution_count": 38,
   "id": "cb964352-00e6-49ec-87c0-704a0109bb10",
   "metadata": {},
   "outputs": [],
   "source": [
    "soup1=BeautifulSoup(response.content,\"html.parser\")"
   ]
  },
  {
   "cell_type": "code",
   "execution_count": 39,
   "id": "f95a08e3-cee8-4d74-80a4-b516ad5a7170",
   "metadata": {},
   "outputs": [
    {
     "data": {
      "text/plain": [
       "<!DOCTYPE html PUBLIC \"-//WAPFORUM//DTD XHTML Mobile 1.0//EN\" \"http://www.wapforum.org/DTD/xhtml-mobile10.dtd\">\n",
       "<html lang=\"en-IN\" xmlns=\"http://www.w3.org/1999/xhtml\"><head><meta content=\"application/xhtml+xml; charset=utf-8\" http-equiv=\"Content-Type\"/><meta content=\"no-cache\" name=\"Cache-Control\"/><title>william carey - Google Search</title><style>a{text-decoration:none;color:inherit}a:hover{text-decoration:underline}a img{border:0}body{font-family:arial,sans-serif;padding:8px;margin:0 auto;max-width:700px;min-width:240px;}.FbhRzb{border-left:thin solid #dadce0;border-right:thin solid #dadce0;border-top:thin solid #dadce0;height:40px;overflow:hidden}.n692Zd{margin-bottom:10px}.cvifge{height:40px;border-spacing:0}.QvGUP{height:40px;padding:0 8px 0 8px;vertical-align:top}.O4cRJf{height:40px;width:100%;padding:0;padding-right:16px}.O1ePr{height:40px;padding:0;vertical-align:top}.kgJEQe{height:36px;width:98px;vertical-align:top;margin-top:4px}.lXLRf{vertical-align:top}.MhzMZd{border:0;vertical-align:middle;font-size:14px;height:40px;padding:0;width:100%;padding-left:16px}.xB0fq{height:40px;border:none;font-size:14px;background-color:#1a73e8;color:#fff;padding:0 16px;margin:0;vertical-align:top;cursor:pointer}.xB0fq:focus{border:1px solid #1a73e8}.M7pB2{border:thin solid #dadce0;margin:0 0 3px 0;font-size:13px;font-weight:500;height:40px}.euZec{width:100%;height:40px;text-align:center;border-spacing:0}table.euZec td{padding:0;width:25%}.QIqI7{display:inline-block;padding-top:4px;font-weight:bold;color:#4285f4}.EY24We{border-bottom:2px solid #4285f4}.CsQyDc{display:inline-block;color:#70757a}.TuS8Ad{font-size:14px}.HddGcc{padding:8px;color:#70757a}.dzp8ae{font-weight:bold;color:#3c4043}.rEM8G{color:#70757a}.bookcf{table-layout:fixed;width:100%;border-spacing:0}.InWNIe{text-align:center}.uZgmoc{border:thin solid #dadce0;color:#70757a;font-size:14px;text-align:center;table-layout:fixed;width:100%}.frGj1b{display:block;padding:12px 0 12px 0;width:100%}.BnJWBc{text-align:center;padding:6px 0 13px 0;height:35px}.e3goi{vertical-align:top;padding:0;height:180px}.GpQGbf{margin:auto;border-collapse:collapse;border-spacing:0;width:100%}</style></head><body><style>.X6ZCif{color:#202124;font-size:11px;line-height:16px;display:inline-block;padding-top:2px;overflow:hidden;padding-bottom:4px;width:100%}.TwVfHd{border-radius:16px;border:thin solid #dadce0;display:inline-block;padding:8px 8px;margin-right:8px;margin-bottom:4px}.yekiAe{background-color:#dadce0}.jjVJ4e{width:100%}.ezO2md{border:thin solid #dadce0;padding:12px 16px 12px 16px;margin-bottom:10px;font-family:arial,sans-serif}.lIMUZd{font-family:arial,sans-serif}.RntSmf{border-spacing:0}.lgD2Tc{width:100%}.SpelHe{text-align:center}.SpelHe{position:relative}.kCmkOe{position:relative}.kCmkOe{width:162px;height:140px;line-height:140px;overflow:'hidden';text-align:center}.DS1iW{text-align:center;margin:auto;vertical-align:middle;max-width:162px;max-height:140px}.AlD19d{padding-top:2px;padding-bottom:8px;}.fYyStc{word-break:break-word}.ynsChf{display:block;white-space:nowrap;overflow:hidden;text-overflow:ellipsis}.Fj3V3b{color:#1967d2;font-size:14px;line-height:20px}.FrIlee{color:#202124;font-size:11px;line-height:16px}.F9iS2e{color:#70757a;font-size:11px;line-height:16px}.WMQ2Le{color:#70757a;font-size:12px;line-height:16px}.x3G5ab{color:#202124;font-size:12px;line-height:16px}.fuLhoc{color:#1967d2;font-size:16px;line-height:20px}.epoveb{font-size:24px;line-height:28px;font-weight:400;color:#202124}.dXDvrc{color:#0d652d;font-size:14px;line-height:20px;word-wrap:break-word}.dloBPe{font-weight:bold}.YVIcad{color:#70757a}.JkVVdd{color:#ea4335}.oXZRFd{color:#ea4335}.MQHtg{color:#fbbc04}.pyMRrb{color:#1e8e3e}.EtTZid{color:#1e8e3e}.M3vVJe{color:#1967d2}.qXLe6d{display:block}.NHQNef{font-style:italic}.Cb8Z7c{white-space:pre}a.ZWRArf{text-decoration:none}a .CVA68e:hover{text-decoration:underline}</style><div class=\"n692Zd\"><div class=\"BnJWBc\"><a class=\"lXLRf\" href=\"/?sa=X&amp;sca_esv=ffb514d24184130b&amp;sca_upv=1&amp;rlz=1C1CHBD_enIN1096IN1096&amp;biw=1366&amp;bih=641&amp;output=images&amp;ie=UTF-8&amp;tbm=isch&amp;ved=0ahUKEwjUgOKYnLmEAxX8hGMGHUdQANMQPAgC\"><img alt=\"Google\" class=\"kgJEQe\" src=\"/images/branding/searchlogo/1x/googlelogo_desk_heirloom_color_150x55dp.gif\"/></a></div><div class=\"FbhRzb\"><form action=\"/search\"><input name=\"sca_esv\" type=\"hidden\" value=\"ffb514d24184130b\"/><input name=\"sca_upv\" type=\"hidden\" value=\"1\"/><input name=\"rlz\" type=\"hidden\" value=\"1C1CHBD_enIN1096IN1096\"/><input name=\"biw\" type=\"hidden\" value=\"1366\"/><input name=\"bih\" type=\"hidden\" value=\"641\"/><input name=\"ie\" type=\"hidden\" value=\"ISO-8859-1\"/><input name=\"tbm\" type=\"hidden\" value=\"isch\"/><input name=\"oq\" type=\"hidden\"/><input name=\"aqs\" type=\"hidden\"/><table class=\"cvifge\"><tr><td class=\"O4cRJf\"><input class=\"MhzMZd\" name=\"q\" type=\"text\" value=\"william carey\"/></td><td class=\"O1ePr\"><input class=\"xB0fq\" type=\"submit\" value=\"Search\"/></td></tr></table></form></div><div class=\"M7pB2\"><table class=\"euZec\"><tbody><tr><td><a class=\"CsQyDc\" href=\"/search?q=william+carey&amp;sca_esv=ffb514d24184130b&amp;sca_upv=1&amp;rlz=1C1CHBD_enIN1096IN1096&amp;biw=1366&amp;bih=641&amp;ie=UTF-8&amp;source=lnms&amp;sa=X&amp;ved=0ahUKEwjUgOKYnLmEAxX8hGMGHUdQANMQ_AUIBCgA\">ALL</a></td><td class=\"EY24We\"><span class=\"QIqI7\">IMAGES</span></td><td><a class=\"CsQyDc\" href=\"/search?q=william+carey&amp;sca_esv=ffb514d24184130b&amp;sca_upv=1&amp;rlz=1C1CHBD_enIN1096IN1096&amp;biw=1366&amp;bih=641&amp;ie=UTF-8&amp;tbm=bks&amp;source=lnms&amp;sa=X&amp;ved=0ahUKEwjUgOKYnLmEAxX8hGMGHUdQANMQ_AUIBigC\">BOOKS</a></td><td><a class=\"CsQyDc\" href=\"/search?q=william+carey&amp;sca_esv=ffb514d24184130b&amp;sca_upv=1&amp;rlz=1C1CHBD_enIN1096IN1096&amp;biw=1366&amp;bih=641&amp;ie=UTF-8&amp;tbm=vid&amp;source=lnms&amp;sa=X&amp;ved=0ahUKEwjUgOKYnLmEAxX8hGMGHUdQANMQ_AUIBygD\">VIDEOS</a></td></tr></tbody></table></div></div><div class=\"X6ZCif\"><a class=\"TwVfHd\" href=\"/search?sca_esv=ffb514d24184130b&amp;sca_upv=1&amp;rlz=1C1CHBD_enIN1096IN1096&amp;biw=1366&amp;bih=641&amp;ie=UTF-8&amp;tbm=isch&amp;q=william+carey&amp;chips=q:william+carey,g_1:biography&amp;sa=X&amp;ved=0ahUKEwjUgOKYnLmEAxX8hGMGHUdQANMQ4lYICygA\">biography</a><a class=\"TwVfHd\" href=\"/search?sca_esv=ffb514d24184130b&amp;sca_upv=1&amp;rlz=1C1CHBD_enIN1096IN1096&amp;biw=1366&amp;bih=641&amp;ie=UTF-8&amp;tbm=isch&amp;q=william+carey&amp;chips=q:william+carey,g_1:tornado&amp;sa=X&amp;ved=0ahUKEwjUgOKYnLmEAxX8hGMGHUdQANMQ4lYIDCgB\">tornado</a><a class=\"TwVfHd\" href=\"/search?sca_esv=ffb514d24184130b&amp;sca_upv=1&amp;rlz=1C1CHBD_enIN1096IN1096&amp;biw=1366&amp;bih=641&amp;ie=UTF-8&amp;tbm=isch&amp;q=william+carey&amp;chips=q:william+carey,g_1:campus&amp;sa=X&amp;ved=0ahUKEwjUgOKYnLmEAxX8hGMGHUdQANMQ4lYIDSgC\">campus</a><a class=\"TwVfHd\" href=\"/search?sca_esv=ffb514d24184130b&amp;sca_upv=1&amp;rlz=1C1CHBD_enIN1096IN1096&amp;biw=1366&amp;bih=641&amp;ie=UTF-8&amp;tbm=isch&amp;q=william+carey&amp;chips=q:william+carey,g_1:map&amp;sa=X&amp;ved=0ahUKEwjUgOKYnLmEAxX8hGMGHUdQANMQ4lYIDigD\">map</a><a class=\"TwVfHd\" href=\"/search?sca_esv=ffb514d24184130b&amp;sca_upv=1&amp;rlz=1C1CHBD_enIN1096IN1096&amp;biw=1366&amp;bih=641&amp;ie=UTF-8&amp;tbm=isch&amp;q=william+carey&amp;chips=q:william+carey,g_1:book&amp;sa=X&amp;ved=0ahUKEwjUgOKYnLmEAxX8hGMGHUdQANMQ4lYIDygE\">book</a><a class=\"TwVfHd\" href=\"/search?sca_esv=ffb514d24184130b&amp;sca_upv=1&amp;rlz=1C1CHBD_enIN1096IN1096&amp;biw=1366&amp;bih=641&amp;ie=UTF-8&amp;tbm=isch&amp;q=william+carey&amp;chips=q:william+carey,g_1:serampore+college&amp;sa=X&amp;ved=0ahUKEwjUgOKYnLmEAxX8hGMGHUdQANMQ4lYIECgF\">serampore college</a><a class=\"TwVfHd\" href=\"/search?sca_esv=ffb514d24184130b&amp;sca_upv=1&amp;rlz=1C1CHBD_enIN1096IN1096&amp;biw=1366&amp;bih=641&amp;ie=UTF-8&amp;tbm=isch&amp;q=william+carey&amp;chips=q:william+carey,g_1:history&amp;sa=X&amp;ved=0ahUKEwjUgOKYnLmEAxX8hGMGHUdQANMQ4lYIESgG\">history</a><a class=\"TwVfHd\" href=\"/search?sca_esv=ffb514d24184130b&amp;sca_upv=1&amp;rlz=1C1CHBD_enIN1096IN1096&amp;biw=1366&amp;bih=641&amp;ie=UTF-8&amp;tbm=isch&amp;q=william+carey&amp;chips=q:william+carey,g_1:grave&amp;sa=X&amp;ved=0ahUKEwjUgOKYnLmEAxX8hGMGHUdQANMQ4lYIEigH\">grave</a><a class=\"TwVfHd\" href=\"/search?sca_esv=ffb514d24184130b&amp;sca_upv=1&amp;rlz=1C1CHBD_enIN1096IN1096&amp;biw=1366&amp;bih=641&amp;ie=UTF-8&amp;tbm=isch&amp;q=william+carey&amp;chips=q:william+carey,g_1:logo&amp;sa=X&amp;ved=0ahUKEwjUgOKYnLmEAxX8hGMGHUdQANMQ4lYIEygI\">logo</a><a class=\"TwVfHd\" href=\"/search?sca_esv=ffb514d24184130b&amp;sca_upv=1&amp;rlz=1C1CHBD_enIN1096IN1096&amp;biw=1366&amp;bih=641&amp;ie=UTF-8&amp;tbm=isch&amp;q=william+carey&amp;chips=q:william+carey,g_1:cobbler&amp;sa=X&amp;ved=0ahUKEwjUgOKYnLmEAxX8hGMGHUdQANMQ4lYIFCgJ\">cobbler</a></div><div><table class=\"GpQGbf\"><tr><td align=\"center\" class=\"e3goi\"><div class=\"jjVJ4e\"> <div> <div class=\"lIMUZd\"><div><table class=\"RntSmf\"><tr><td><a href=\"/url?q=https://en.wikipedia.org/wiki/William_Carey_(missionary)&amp;sa=U&amp;ved=2ahUKEwjUgOKYnLmEAxX8hGMGHUdQANMQqoUBegQIABAB&amp;usg=AOvVaw3_ph0ck9F12JgjO1c7YlE2\"><div class=\"kCmkOe\"><img alt=\"\" class=\"DS1iW\" src=\"https://encrypted-tbn0.gstatic.com/images?q=tbn:ANd9GcS6z7-SFsnJGcFDk4gIjsPOLoNw48eqboz5vGOB9yJax-bTP648Z59BR1b8sg&amp;s\"/></div></a></td></tr><tr><td><a href=\"/url?q=https://en.wikipedia.org/wiki/William_Carey_(missionary)&amp;sa=U&amp;ved=2ahUKEwjUgOKYnLmEAxX8hGMGHUdQANMQr4kDegQIABAC&amp;usg=AOvVaw0Mbkah5y9xkmBoKyz-tFuo\"><div class=\"AlD19d\"> <span class=\"qXLe6d x3G5ab\"> <span class=\"fYyStc\">William Carey (missionary)...</span> </span> <span class=\"qXLe6d F9iS2e\"> <span class=\"fYyStc\">en.wikipedia.org</span> </span> </div></a></td></tr></table></div></div> </div> </div></td><td align=\"center\" class=\"e3goi\"><div class=\"jjVJ4e\"> <div> <div class=\"lIMUZd\"><div><table class=\"RntSmf\"><tr><td><a href=\"/url?q=https://www.christianitytoday.com/history/people/missionaries/william-carey.html&amp;sa=U&amp;ved=2ahUKEwjUgOKYnLmEAxX8hGMGHUdQANMQqoUBegQIEhAB&amp;usg=AOvVaw2mrNB3NCupm8M3dXorXz2H\"><div class=\"kCmkOe\"><img alt=\"\" class=\"DS1iW\" src=\"https://encrypted-tbn0.gstatic.com/images?q=tbn:ANd9GcQ44XArRJpdXkL0UUziabFwLdmuP5S_rzEigLL7bU7XwFfz1H8oRspL9keLTg&amp;s\"/></div></a></td></tr><tr><td><a href=\"/url?q=https://www.christianitytoday.com/history/people/missionaries/william-carey.html&amp;sa=U&amp;ved=2ahUKEwjUgOKYnLmEAxX8hGMGHUdQANMQr4kDegQIEhAC&amp;usg=AOvVaw0F9W2IOPFNcBxA37AA7qoU\"><div class=\"AlD19d\"> <span class=\"qXLe6d x3G5ab\"> <span class=\"fYyStc\">William Carey | Christian...</span> </span> <span class=\"qXLe6d F9iS2e\"> <span class=\"fYyStc\">www.christianitytoday.com</span> </span> </div></a></td></tr></table></div></div> </div> </div></td><td align=\"center\" class=\"e3goi\"><div class=\"jjVJ4e\"> <div> <div class=\"lIMUZd\"><div><table class=\"RntSmf\"><tr><td><a href=\"/url?q=https://www.imb.org/2018/07/31/missionaries-you-should-know-william-carey/&amp;sa=U&amp;ved=2ahUKEwjUgOKYnLmEAxX8hGMGHUdQANMQqoUBegQIExAB&amp;usg=AOvVaw13gbPjavU0egx0rKjsBLS1\"><div class=\"kCmkOe\"><img alt=\"\" class=\"DS1iW\" src=\"https://encrypted-tbn0.gstatic.com/images?q=tbn:ANd9GcSGBoBowe0iTNoXNSOG3vhOMnT3MAi77IkGWtJAOmeLfbxcvbtLXG2bdlMAGw&amp;s\"/></div></a></td></tr><tr><td><a href=\"/url?q=https://www.imb.org/2018/07/31/missionaries-you-should-know-william-carey/&amp;sa=U&amp;ved=2ahUKEwjUgOKYnLmEAxX8hGMGHUdQANMQr4kDegQIExAC&amp;usg=AOvVaw3mqJEYePC2KRA6WceLY4IC\"><div class=\"AlD19d\"> <span class=\"qXLe6d x3G5ab\"> <span class=\"fYyStc\">Missionaries You Should...</span> </span> <span class=\"qXLe6d F9iS2e\"> <span class=\"fYyStc\">www.imb.org</span> </span> </div></a></td></tr></table></div></div> </div> </div></td><td align=\"center\" class=\"e3goi\"><div class=\"jjVJ4e\"> <div> <div class=\"lIMUZd\"><div><table class=\"RntSmf\"><tr><td><a href=\"/url?q=https://landmarkevents.org/william-careys-india-mission-1793/&amp;sa=U&amp;ved=2ahUKEwjUgOKYnLmEAxX8hGMGHUdQANMQqoUBegQIDhAB&amp;usg=AOvVaw0VubHOaIh-0yS47Kh81vdr\"><div class=\"kCmkOe\"><img alt=\"\" class=\"DS1iW\" src=\"https://encrypted-tbn0.gstatic.com/images?q=tbn:ANd9GcS3jQuzvYL35NFCG6HCT3TtW5G8c_NKIHx6d5prWv0oGhvKkbFfqMer4e1Ayg&amp;s\"/></div></a></td></tr><tr><td><a href=\"/url?q=https://landmarkevents.org/william-careys-india-mission-1793/&amp;sa=U&amp;ved=2ahUKEwjUgOKYnLmEAxX8hGMGHUdQANMQr4kDegQIDhAC&amp;usg=AOvVaw0vhMjMCy5mlT6-fsdXYVxz\"><div class=\"AlD19d\"> <span class=\"qXLe6d x3G5ab\"> <span class=\"fYyStc\">William Carey's India...</span> </span> <span class=\"qXLe6d F9iS2e\"> <span class=\"fYyStc\">landmarkevents.org</span> </span> </div></a></td></tr></table></div></div> </div> </div></td></tr><tr><td align=\"center\" class=\"e3goi\"><div class=\"jjVJ4e\"> <div> <div class=\"lIMUZd\"><div><table class=\"RntSmf\"><tr><td><a href=\"/url?q=https://christianhof.org/carey/&amp;sa=U&amp;ved=2ahUKEwjUgOKYnLmEAxX8hGMGHUdQANMQqoUBegQIDxAB&amp;usg=AOvVaw0nqjg2vdGgMOCFnkpbS_kK\"><div class=\"kCmkOe\"><img alt=\"\" class=\"DS1iW\" src=\"https://encrypted-tbn0.gstatic.com/images?q=tbn:ANd9GcQXo6XEETO3O0WcVELeagaDJqTwh91_Li1KhAFaIU3ZTHUn-rIt5w9Q7tofF3g&amp;s\"/></div></a></td></tr><tr><td><a href=\"/url?q=https://christianhof.org/carey/&amp;sa=U&amp;ved=2ahUKEwjUgOKYnLmEAxX8hGMGHUdQANMQr4kDegQIDxAC&amp;usg=AOvVaw1fHJmc8v9_kKUryX1Ti6Xm\"><div class=\"AlD19d\"> <span class=\"qXLe6d x3G5ab\"> <span class=\"fYyStc\">William Carey - Christian...</span> </span> <span class=\"qXLe6d F9iS2e\"> <span class=\"fYyStc\">christianhof.org</span> </span> </div></a></td></tr></table></div></div> </div> </div></td><td align=\"center\" class=\"e3goi\"><div class=\"jjVJ4e\"> <div> <div class=\"lIMUZd\"><div><table class=\"RntSmf\"><tr><td><a href=\"/url?q=https://reformedbooks.org/product/william-carey-father-of-missions/&amp;sa=U&amp;ved=2ahUKEwjUgOKYnLmEAxX8hGMGHUdQANMQqoUBegQICxAB&amp;usg=AOvVaw3yku5V83hTQ9sGm_Df68-H\"><div class=\"kCmkOe\"><img alt=\"\" class=\"DS1iW\" src=\"https://encrypted-tbn0.gstatic.com/images?q=tbn:ANd9GcQZ5k132_51c4QXHyrE895-FjZ1218wRWvoQ_ugCKsbD855nN0DDXhXPTNgx5E&amp;s\"/></div></a></td></tr><tr><td><a href=\"/url?q=https://reformedbooks.org/product/william-carey-father-of-missions/&amp;sa=U&amp;ved=2ahUKEwjUgOKYnLmEAxX8hGMGHUdQANMQr4kDegQICxAC&amp;usg=AOvVaw3jJ7uP0D48g2jXU2MSPmMU\"><div class=\"AlD19d\"> <span class=\"qXLe6d x3G5ab\"> <span class=\"fYyStc\">William Carey: Father of...</span> </span> <span class=\"qXLe6d F9iS2e\"> <span class=\"fYyStc\">reformedbooks.org</span> </span> </div></a></td></tr></table></div></div> </div> </div></td><td align=\"center\" class=\"e3goi\"><div class=\"jjVJ4e\"> <div> <div class=\"lIMUZd\"><div><table class=\"RntSmf\"><tr><td><a href=\"/url?q=https://freegrace.in/mission-daily-amy-carmichael/&amp;sa=U&amp;ved=2ahUKEwjUgOKYnLmEAxX8hGMGHUdQANMQqoUBegQIDRAB&amp;usg=AOvVaw0jha6aAKfONJ3tb8fOLxsQ\"><div class=\"kCmkOe\"><img alt=\"\" class=\"DS1iW\" src=\"https://encrypted-tbn0.gstatic.com/images?q=tbn:ANd9GcQx-MBzYLePIzcwJ288RTrEAAD2CWXJIt0YI5mQsW9rGzdfT4qJrLOZRMiDng&amp;s\"/></div></a></td></tr><tr><td><a href=\"/url?q=https://freegrace.in/mission-daily-amy-carmichael/&amp;sa=U&amp;ved=2ahUKEwjUgOKYnLmEAxX8hGMGHUdQANMQr4kDegQIDRAC&amp;usg=AOvVaw3ZGpu-xqMvghSc2j0EXDmp\"><div class=\"AlD19d\"> <span class=\"qXLe6d x3G5ab\"> <span class=\"fYyStc\">Mission Daily | William...</span> </span> <span class=\"qXLe6d F9iS2e\"> <span class=\"fYyStc\">freegrace.in</span> </span> </div></a></td></tr></table></div></div> </div> </div></td><td align=\"center\" class=\"e3goi\"><div class=\"jjVJ4e\"> <div> <div class=\"lIMUZd\"><div><table class=\"RntSmf\"><tr><td><a href=\"/url?q=https://www.wholesomewords.org/missions/bcarey1.html&amp;sa=U&amp;ved=2ahUKEwjUgOKYnLmEAxX8hGMGHUdQANMQqoUBegQIChAB&amp;usg=AOvVaw2Eqkmf7ICN5Yr-paoRk5d7\"><div class=\"kCmkOe\"><img alt=\"\" class=\"DS1iW\" src=\"https://encrypted-tbn0.gstatic.com/images?q=tbn:ANd9GcQPXsahVXXzC8M88QNC8qAEwwL6kEEpRGhBPz4jwmU1qSP10JEm0CrCaVmeBA&amp;s\"/></div></a></td></tr><tr><td><a href=\"/url?q=https://www.wholesomewords.org/missions/bcarey1.html&amp;sa=U&amp;ved=2ahUKEwjUgOKYnLmEAxX8hGMGHUdQANMQr4kDegQIChAC&amp;usg=AOvVaw00hZh4UIkVsEw9ulTaSsyh\"><div class=\"AlD19d\"> <span class=\"qXLe6d x3G5ab\"> <span class=\"fYyStc\">William Carey missionary...</span> </span> <span class=\"qXLe6d F9iS2e\"> <span class=\"fYyStc\">www.wholesomewords.org</span> </span> </div></a></td></tr></table></div></div> </div> </div></td></tr><tr><td align=\"center\" class=\"e3goi\"><div class=\"jjVJ4e\"> <div> <div class=\"lIMUZd\"><div><table class=\"RntSmf\"><tr><td><a href=\"/url?q=https://sbhla.org/biographies/william-carey/&amp;sa=U&amp;ved=2ahUKEwjUgOKYnLmEAxX8hGMGHUdQANMQqoUBegQICRAB&amp;usg=AOvVaw1abJR2-cfgM9Qw2Evjrr8Z\"><div class=\"kCmkOe\"><img alt=\"\" class=\"DS1iW\" src=\"https://encrypted-tbn0.gstatic.com/images?q=tbn:ANd9GcQqlfmX0A6aqgCIKWT1Z1RonJP6SVRPuAvW2Ghq3stk3Z7EXIIhT0cmJlBDJg&amp;s\"/></div></a></td></tr><tr><td><a href=\"/url?q=https://sbhla.org/biographies/william-carey/&amp;sa=U&amp;ved=2ahUKEwjUgOKYnLmEAxX8hGMGHUdQANMQr4kDegQICRAC&amp;usg=AOvVaw2J9khgmROr6PUk5gigWJlU\"><div class=\"AlD19d\"> <span class=\"qXLe6d x3G5ab\"> <span class=\"fYyStc\">William Carey - Southern...</span> </span> <span class=\"qXLe6d F9iS2e\"> <span class=\"fYyStc\">sbhla.org</span> </span> </div></a></td></tr></table></div></div> </div> </div></td><td align=\"center\" class=\"e3goi\"><div class=\"jjVJ4e\"> <div> <div class=\"lIMUZd\"><div><table class=\"RntSmf\"><tr><td><a href=\"/url?q=https://landmarkevents.org/william-careys-india-mission-1793/&amp;sa=U&amp;ved=2ahUKEwjUgOKYnLmEAxX8hGMGHUdQANMQqoUBegQIEBAB&amp;usg=AOvVaw3nSFd8ittMNLltFe6gQbA7\"><div class=\"kCmkOe\"><img alt=\"\" class=\"DS1iW\" src=\"https://encrypted-tbn0.gstatic.com/images?q=tbn:ANd9GcQoEI0lrzfCd2P3-UMeOjrh08DjAlHvyra6xSsHHoaw-RH4ibKaFFuXIrFuFg&amp;s\"/></div></a></td></tr><tr><td><a href=\"/url?q=https://landmarkevents.org/william-careys-india-mission-1793/&amp;sa=U&amp;ved=2ahUKEwjUgOKYnLmEAxX8hGMGHUdQANMQr4kDegQIEBAC&amp;usg=AOvVaw31zdE-aePW9zr9jEffz68S\"><div class=\"AlD19d\"> <span class=\"qXLe6d x3G5ab\"> <span class=\"fYyStc\">William Carey's India...</span> </span> <span class=\"qXLe6d F9iS2e\"> <span class=\"fYyStc\">landmarkevents.org</span> </span> </div></a></td></tr></table></div></div> </div> </div></td><td align=\"center\" class=\"e3goi\"><div class=\"jjVJ4e\"> <div> <div class=\"lIMUZd\"><div><table class=\"RntSmf\"><tr><td><a href=\"/url?q=https://careyoutreach.org/blog/william-carey&amp;sa=U&amp;ved=2ahUKEwjUgOKYnLmEAxX8hGMGHUdQANMQqoUBegQIDBAB&amp;usg=AOvVaw3SQXtXh85yDyMzI46fVfsf\"><div class=\"kCmkOe\"><img alt=\"\" class=\"DS1iW\" src=\"https://encrypted-tbn0.gstatic.com/images?q=tbn:ANd9GcTlKbjcCiqQABitu8fzzon74htWYeEEupYTiKVe8n9-ijZwlmQqLcf3ZX3latI&amp;s\"/></div></a></td></tr><tr><td><a href=\"/url?q=https://careyoutreach.org/blog/william-carey&amp;sa=U&amp;ved=2ahUKEwjUgOKYnLmEAxX8hGMGHUdQANMQr4kDegQIDBAC&amp;usg=AOvVaw1d98jM1rc4aK1X73fFxaZ8\"><div class=\"AlD19d\"> <span class=\"qXLe6d x3G5ab\"> <span class=\"fYyStc\">William Carey :: Carey...</span> </span> <span class=\"qXLe6d F9iS2e\"> <span class=\"fYyStc\">careyoutreach.org</span> </span> </div></a></td></tr></table></div></div> </div> </div></td><td align=\"center\" class=\"e3goi\"><div class=\"jjVJ4e\"> <div> <div class=\"lIMUZd\"><div><table class=\"RntSmf\"><tr><td><a href=\"/url?q=https://www.bu.edu/missiology/missionary-biography/c-d/carey-william-1761-1834/&amp;sa=U&amp;ved=2ahUKEwjUgOKYnLmEAxX8hGMGHUdQANMQqoUBegQIERAB&amp;usg=AOvVaw0gZ41z4ORwVwuVmBJCdk_c\"><div class=\"kCmkOe\"><img alt=\"\" class=\"DS1iW\" src=\"https://encrypted-tbn0.gstatic.com/images?q=tbn:ANd9GcS0euJlaJatflb_A_f0fOsUWhmftdGJmZ4AkW8T0lMnPAfCkqnP4nVi2B5oicg&amp;s\"/></div></a></td></tr><tr><td><a href=\"/url?q=https://www.bu.edu/missiology/missionary-biography/c-d/carey-william-1761-1834/&amp;sa=U&amp;ved=2ahUKEwjUgOKYnLmEAxX8hGMGHUdQANMQr4kDegQIERAC&amp;usg=AOvVaw1XM_XZkKgfwbDdDRgmXbuS\"><div class=\"AlD19d\"> <span class=\"qXLe6d x3G5ab\"> <span class=\"fYyStc\">Carey, William (1761-1834)...</span> </span> <span class=\"qXLe6d F9iS2e\"> <span class=\"fYyStc\">www.bu.edu</span> </span> </div></a></td></tr></table></div></div> </div> </div></td></tr><tr><td align=\"center\" class=\"e3goi\"><div class=\"jjVJ4e\"> <div> <div class=\"lIMUZd\"><div><table class=\"RntSmf\"><tr><td><a href=\"/url?q=https://drivethruhistory.com/the-father-of-modern-missions/&amp;sa=U&amp;ved=2ahUKEwjUgOKYnLmEAxX8hGMGHUdQANMQqoUBegQICBAB&amp;usg=AOvVaw1enckWNljoNFwTe8FhL05Z\"><div class=\"kCmkOe\"><img alt=\"\" class=\"DS1iW\" src=\"https://encrypted-tbn0.gstatic.com/images?q=tbn:ANd9GcTYQSGYIQ-29WFxobShr7ySBB7PnHkW9skg9n7r6XsHFPWLvi_oVvxW5j9sdg&amp;s\"/></div></a></td></tr><tr><td><a href=\"/url?q=https://drivethruhistory.com/the-father-of-modern-missions/&amp;sa=U&amp;ved=2ahUKEwjUgOKYnLmEAxX8hGMGHUdQANMQr4kDegQICBAC&amp;usg=AOvVaw1tXschX7Bp06nztgcGYzPl\"><div class=\"AlD19d\"> <span class=\"qXLe6d x3G5ab\"> <span class=\"fYyStc\">The Father of Modern...</span> </span> <span class=\"qXLe6d F9iS2e\"> <span class=\"fYyStc\">drivethruhistory.com</span> </span> </div></a></td></tr></table></div></div> </div> </div></td><td align=\"center\" class=\"e3goi\"><div class=\"jjVJ4e\"> <div> <div class=\"lIMUZd\"><div><table class=\"RntSmf\"><tr><td><a href=\"/url?q=https://blog.eastwest.org/5-figures-of-faith-william-carey&amp;sa=U&amp;ved=2ahUKEwjUgOKYnLmEAxX8hGMGHUdQANMQqoUBegQIBBAB&amp;usg=AOvVaw0P3i9pIP0VZRtRPWAbpORR\"><div class=\"kCmkOe\"><img alt=\"\" class=\"DS1iW\" src=\"https://encrypted-tbn0.gstatic.com/images?q=tbn:ANd9GcQzpcIU7dfuDUwnfVicwX55FyXB74NmIYBsYASjXG14CzzeoJgnjp3EwVyM-fQ&amp;s\"/></div></a></td></tr><tr><td><a href=\"/url?q=https://blog.eastwest.org/5-figures-of-faith-william-carey&amp;sa=U&amp;ved=2ahUKEwjUgOKYnLmEAxX8hGMGHUdQANMQr4kDegQIBBAC&amp;usg=AOvVaw2mG_khhdgJuIzFXImYr9b5\"><div class=\"AlD19d\"> <span class=\"qXLe6d x3G5ab\"> <span class=\"fYyStc\">5 Figures of Faith: William...</span> </span> <span class=\"qXLe6d F9iS2e\"> <span class=\"fYyStc\">blog.eastwest.org</span> </span> </div></a></td></tr></table></div></div> </div> </div></td><td align=\"center\" class=\"e3goi\"><div class=\"jjVJ4e\"> <div> <div class=\"lIMUZd\"><div><table class=\"RntSmf\"><tr><td><a href=\"/url?q=https://www.pastorjack.org/%3Fp%3D1292&amp;sa=U&amp;ved=2ahUKEwjUgOKYnLmEAxX8hGMGHUdQANMQqoUBegQIBxAB&amp;usg=AOvVaw0wVJRGvvqksChduKUFSf_-\"><div class=\"kCmkOe\"><img alt=\"\" class=\"DS1iW\" src=\"https://encrypted-tbn0.gstatic.com/images?q=tbn:ANd9GcRyEhyQISFhWtQJCI1_j2uetXzZKnepmT3dxKANdpiPmWnnj8Gdqvb63KJVg2A&amp;s\"/></div></a></td></tr><tr><td><a href=\"/url?q=https://www.pastorjack.org/%3Fp%3D1292&amp;sa=U&amp;ved=2ahUKEwjUgOKYnLmEAxX8hGMGHUdQANMQr4kDegQIBxAC&amp;usg=AOvVaw3IMNnBxpFen9QmBcAGz5dF\"><div class=\"AlD19d\"> <span class=\"qXLe6d x3G5ab\"> <span class=\"fYyStc\">Finding Courage In...</span> </span> <span class=\"qXLe6d F9iS2e\"> <span class=\"fYyStc\">www.pastorjack.org</span> </span> </div></a></td></tr></table></div></div> </div> </div></td><td align=\"center\" class=\"e3goi\"><div class=\"jjVJ4e\"> <div> <div class=\"lIMUZd\"><div><table class=\"RntSmf\"><tr><td><a href=\"/url?q=https://www.christianfocus.com/blog/2022/06/02/perseverance-william-carey-trailblazer&amp;sa=U&amp;ved=2ahUKEwjUgOKYnLmEAxX8hGMGHUdQANMQqoUBegQIBRAB&amp;usg=AOvVaw1tsjdf_d-q38l74zp_Nx4h\"><div class=\"kCmkOe\"><img alt=\"\" class=\"DS1iW\" src=\"https://encrypted-tbn0.gstatic.com/images?q=tbn:ANd9GcQlMvY-iY7YG-yHrntskJ5QBswKPYDXEDnNkf8n5hRVGjLQG_SQ9yNGJyZMieY&amp;s\"/></div></a></td></tr><tr><td><a href=\"/url?q=https://www.christianfocus.com/blog/2022/06/02/perseverance-william-carey-trailblazer&amp;sa=U&amp;ved=2ahUKEwjUgOKYnLmEAxX8hGMGHUdQANMQr4kDegQIBRAC&amp;usg=AOvVaw3WOn-2-NjjYFwGie-wnGrp\"><div class=\"AlD19d\"> <span class=\"qXLe6d x3G5ab\"> <span class=\"fYyStc\">Perseverance– 'William...</span> </span> <span class=\"qXLe6d F9iS2e\"> <span class=\"fYyStc\">www.christianfocus.com</span> </span> </div></a></td></tr></table></div></div> </div> </div></td></tr><tr><td align=\"center\" class=\"e3goi\"><div class=\"jjVJ4e\"> <div> <div class=\"lIMUZd\"><div><table class=\"RntSmf\"><tr><td><a href=\"/url?q=https://www.wmcarey.edu/carey/wmward/Misc%2520html/carey1.html&amp;sa=U&amp;ved=2ahUKEwjUgOKYnLmEAxX8hGMGHUdQANMQqoUBegQIBhAB&amp;usg=AOvVaw0IhVTUCqUjf49o3PZ3mTAr\"><div class=\"kCmkOe\"><img alt=\"\" class=\"DS1iW\" src=\"https://encrypted-tbn0.gstatic.com/images?q=tbn:ANd9GcSo5G2K7wQy0WHI21HS4jp-CjrMjD14OSguMjffqG7aZgaL4xhLvKpWx_9-9rk&amp;s\"/></div></a></td></tr><tr><td><a href=\"/url?q=https://www.wmcarey.edu/carey/wmward/Misc%2520html/carey1.html&amp;sa=U&amp;ved=2ahUKEwjUgOKYnLmEAxX8hGMGHUdQANMQr4kDegQIBhAC&amp;usg=AOvVaw0Pcy8XN65sXZqaANsU0gkP\"><div class=\"AlD19d\"> <span class=\"qXLe6d x3G5ab\"> <span class=\"fYyStc\">Ward / Misc / Dr. William...</span> </span> <span class=\"qXLe6d F9iS2e\"> <span class=\"fYyStc\">www.wmcarey.edu</span> </span> </div></a></td></tr></table></div></div> </div> </div></td><td align=\"center\" class=\"e3goi\"><div class=\"jjVJ4e\"> <div> <div class=\"lIMUZd\"><div><table class=\"RntSmf\"><tr><td><a href=\"/url?q=https://holywomenholymen.wordpress.com/2016/10/19/oct-19-william-carey/&amp;sa=U&amp;ved=2ahUKEwjUgOKYnLmEAxX8hGMGHUdQANMQqoUBegQIARAB&amp;usg=AOvVaw0sfaynxHIFSeQK5XuVSGg1\"><div class=\"kCmkOe\"><img alt=\"\" class=\"DS1iW\" src=\"https://encrypted-tbn0.gstatic.com/images?q=tbn:ANd9GcSEfwMAq1hLmVnSjWH7q_HT6xXJoOmdooQ-ejmuDAaUZOXNH3z2RlEot7xBXg&amp;s\"/></div></a></td></tr><tr><td><a href=\"/url?q=https://holywomenholymen.wordpress.com/2016/10/19/oct-19-william-carey/&amp;sa=U&amp;ved=2ahUKEwjUgOKYnLmEAxX8hGMGHUdQANMQr4kDegQIARAC&amp;usg=AOvVaw0Xm3dV-ReWnLiIVrH85umO\"><div class=\"AlD19d\"> <span class=\"qXLe6d x3G5ab\"> <span class=\"fYyStc\">Oct 19 – William Carey | A...</span> </span> <span class=\"qXLe6d F9iS2e\"> <span class=\"fYyStc\">holywomenholymen.wordpress....</span> </span> </div></a></td></tr></table></div></div> </div> </div></td><td align=\"center\" class=\"e3goi\"><div class=\"jjVJ4e\"> <div> <div class=\"lIMUZd\"><div><table class=\"RntSmf\"><tr><td><a href=\"/url?q=https://www.bu.edu/missiology/missionary-biography/c-d/carey-william-1761-1834/&amp;sa=U&amp;ved=2ahUKEwjUgOKYnLmEAxX8hGMGHUdQANMQqoUBegQIAhAB&amp;usg=AOvVaw1lbDdEpA7rPv0zo39Er_ID\"><div class=\"kCmkOe\"><img alt=\"\" class=\"DS1iW\" src=\"https://encrypted-tbn0.gstatic.com/images?q=tbn:ANd9GcRI7vcDXmoBIW3M8Dz434GoX1-gnN0QGTVVBzKsjGnHlht8UtaunFFthizNRFc&amp;s\"/></div></a></td></tr><tr><td><a href=\"/url?q=https://www.bu.edu/missiology/missionary-biography/c-d/carey-william-1761-1834/&amp;sa=U&amp;ved=2ahUKEwjUgOKYnLmEAxX8hGMGHUdQANMQr4kDegQIAhAC&amp;usg=AOvVaw0HdHA2C8vrFyyRwmNWh3Cb\"><div class=\"AlD19d\"> <span class=\"qXLe6d x3G5ab\"> <span class=\"fYyStc\">Carey, William (1761-1834)...</span> </span> <span class=\"qXLe6d F9iS2e\"> <span class=\"fYyStc\">www.bu.edu</span> </span> </div></a></td></tr></table></div></div> </div> </div></td><td align=\"center\" class=\"e3goi\"><div class=\"jjVJ4e\"> <div> <div class=\"lIMUZd\"><div><table class=\"RntSmf\"><tr><td><a href=\"/url?q=https://www.youtube.com/watch%3Fv%3DBeQOHF6MWMM&amp;sa=U&amp;ved=2ahUKEwjUgOKYnLmEAxX8hGMGHUdQANMQqoUBegQIAxAB&amp;usg=AOvVaw2RMatrdwc0dEnzhTQu6oK5\"><div class=\"kCmkOe\"><img alt=\"\" class=\"DS1iW\" src=\"https://encrypted-tbn0.gstatic.com/images?q=tbn:ANd9GcRduDbrAcVJJ0sLlH19dvvQmWvoxI-cdMhPtS3zJZmiE_tqtuyBN1m54BbOT3A&amp;s\"/></div></a></td></tr><tr><td><a href=\"/url?q=https://www.youtube.com/watch%3Fv%3DBeQOHF6MWMM&amp;sa=U&amp;ved=2ahUKEwjUgOKYnLmEAxX8hGMGHUdQANMQr4kDegQIAxAC&amp;usg=AOvVaw1PgvxEt4Ox-YVltMS_bYpb\"><div class=\"AlD19d\"> <span class=\"qXLe6d x3G5ab\"> <span class=\"fYyStc\">William Carey | Cobbler to...</span> </span> <span class=\"qXLe6d F9iS2e\"> <span class=\"fYyStc\">www.youtube.com</span> </span> </div></a></td></tr></table></div></div> </div> </div></td></tr></table></div><table class=\"uZgmoc\"><tbody><td><a class=\"frGj1b\" href=\"/search?q=william+carey&amp;sca_esv=ffb514d24184130b&amp;sca_upv=1&amp;rlz=1C1CHBD_enIN1096IN1096&amp;biw=1366&amp;bih=641&amp;ie=UTF-8&amp;tbm=isch&amp;ei=Nz3UZZSJIPyJjuMPx6CBmA0&amp;start=20&amp;sa=N\">Next &gt;</a></td></tbody></table><br/><div class=\"TuS8Ad\" data-ved=\"0ahUKEwjUgOKYnLmEAxX8hGMGHUdQANMQpyoIUg\"><style>.VYM29{font-weight:bold}</style><div align=\"center\" class=\"HddGcc\"><span class=\"VYM29\">Chennai, Tamil Nadu</span><span> - </span><span>From your IP address</span><span> - </span><a href=\"/url?q=https://support.google.com/websearch%3Fp%3Dws_settings_location%26hl%3Den-IN&amp;opi=89978449&amp;sa=U&amp;ved=0ahUKEwjUgOKYnLmEAxX8hGMGHUdQANMQty4IUw&amp;usg=AOvVaw3I7mbQMAILhnAYWv3AGG2B\">Learn more</a></div><div align=\"center\"><a class=\"rEM8G\" href=\"/url?q=https://accounts.google.com/ServiceLogin%3Fcontinue%3Dhttps://www.google.com/search%253Fsca_esv%253Dffb514d24184130b%2526sca_upv%253D1%2526rlz%253D1C1CHBD_enIN1096IN1096%2526sxsrf%253DACQVn09HHEaJtRtBkT-nWuLKWaMONTCOlQ:1708404821933%2526q%253Dwilliam%252Bcarey%2526tbm%253Disch%2526source%253Dlnms%2526sa%253DX%2526ved%253D2ahUKEwizzKz0j7mEAxWXTWwGHSJ7D5gQ0pQJegQIDhAB%2526cshid%253D1708404975728059%2526biw%253D1366%2526bih%253D641%2526dpr%253D1%26hl%3Den&amp;opi=89978449&amp;sa=U&amp;ved=0ahUKEwjUgOKYnLmEAxX8hGMGHUdQANMQxs8CCFQ&amp;usg=AOvVaw1nzu16u_w3POKkxgy3yX0k\">Sign in</a></div><div><table class=\"bookcf\"><tbody class=\"InWNIe\"><tr><td><a class=\"rEM8G\" href=\"https://www.google.com/preferences?hl=en&amp;sa=X&amp;ved=0ahUKEwjUgOKYnLmEAxX8hGMGHUdQANMQv5YECFU\">Settings</a></td><td><a class=\"rEM8G\" href=\"https://www.google.com/intl/en_in/policies/privacy/\">Privacy</a></td><td><a class=\"rEM8G\" href=\"https://www.google.com/intl/en_in/policies/terms/\">Terms</a></td></tr></tbody></table></div></div><div> </div></body></html>"
      ]
     },
     "execution_count": 39,
     "metadata": {},
     "output_type": "execute_result"
    }
   ],
   "source": [
    "soup1"
   ]
  },
  {
   "cell_type": "code",
   "execution_count": 41,
   "id": "ef514563-46b4-45ef-b186-db1a2822c92d",
   "metadata": {},
   "outputs": [
    {
     "data": {
      "text/plain": [
       "[<img alt=\"Google\" class=\"kgJEQe\" src=\"/images/branding/searchlogo/1x/googlelogo_desk_heirloom_color_150x55dp.gif\"/>,\n",
       " <img alt=\"\" class=\"DS1iW\" src=\"https://encrypted-tbn0.gstatic.com/images?q=tbn:ANd9GcS6z7-SFsnJGcFDk4gIjsPOLoNw48eqboz5vGOB9yJax-bTP648Z59BR1b8sg&amp;s\"/>,\n",
       " <img alt=\"\" class=\"DS1iW\" src=\"https://encrypted-tbn0.gstatic.com/images?q=tbn:ANd9GcQ44XArRJpdXkL0UUziabFwLdmuP5S_rzEigLL7bU7XwFfz1H8oRspL9keLTg&amp;s\"/>,\n",
       " <img alt=\"\" class=\"DS1iW\" src=\"https://encrypted-tbn0.gstatic.com/images?q=tbn:ANd9GcSGBoBowe0iTNoXNSOG3vhOMnT3MAi77IkGWtJAOmeLfbxcvbtLXG2bdlMAGw&amp;s\"/>,\n",
       " <img alt=\"\" class=\"DS1iW\" src=\"https://encrypted-tbn0.gstatic.com/images?q=tbn:ANd9GcS3jQuzvYL35NFCG6HCT3TtW5G8c_NKIHx6d5prWv0oGhvKkbFfqMer4e1Ayg&amp;s\"/>,\n",
       " <img alt=\"\" class=\"DS1iW\" src=\"https://encrypted-tbn0.gstatic.com/images?q=tbn:ANd9GcQXo6XEETO3O0WcVELeagaDJqTwh91_Li1KhAFaIU3ZTHUn-rIt5w9Q7tofF3g&amp;s\"/>,\n",
       " <img alt=\"\" class=\"DS1iW\" src=\"https://encrypted-tbn0.gstatic.com/images?q=tbn:ANd9GcQZ5k132_51c4QXHyrE895-FjZ1218wRWvoQ_ugCKsbD855nN0DDXhXPTNgx5E&amp;s\"/>,\n",
       " <img alt=\"\" class=\"DS1iW\" src=\"https://encrypted-tbn0.gstatic.com/images?q=tbn:ANd9GcQx-MBzYLePIzcwJ288RTrEAAD2CWXJIt0YI5mQsW9rGzdfT4qJrLOZRMiDng&amp;s\"/>,\n",
       " <img alt=\"\" class=\"DS1iW\" src=\"https://encrypted-tbn0.gstatic.com/images?q=tbn:ANd9GcQPXsahVXXzC8M88QNC8qAEwwL6kEEpRGhBPz4jwmU1qSP10JEm0CrCaVmeBA&amp;s\"/>,\n",
       " <img alt=\"\" class=\"DS1iW\" src=\"https://encrypted-tbn0.gstatic.com/images?q=tbn:ANd9GcQqlfmX0A6aqgCIKWT1Z1RonJP6SVRPuAvW2Ghq3stk3Z7EXIIhT0cmJlBDJg&amp;s\"/>,\n",
       " <img alt=\"\" class=\"DS1iW\" src=\"https://encrypted-tbn0.gstatic.com/images?q=tbn:ANd9GcQoEI0lrzfCd2P3-UMeOjrh08DjAlHvyra6xSsHHoaw-RH4ibKaFFuXIrFuFg&amp;s\"/>,\n",
       " <img alt=\"\" class=\"DS1iW\" src=\"https://encrypted-tbn0.gstatic.com/images?q=tbn:ANd9GcTlKbjcCiqQABitu8fzzon74htWYeEEupYTiKVe8n9-ijZwlmQqLcf3ZX3latI&amp;s\"/>,\n",
       " <img alt=\"\" class=\"DS1iW\" src=\"https://encrypted-tbn0.gstatic.com/images?q=tbn:ANd9GcS0euJlaJatflb_A_f0fOsUWhmftdGJmZ4AkW8T0lMnPAfCkqnP4nVi2B5oicg&amp;s\"/>,\n",
       " <img alt=\"\" class=\"DS1iW\" src=\"https://encrypted-tbn0.gstatic.com/images?q=tbn:ANd9GcTYQSGYIQ-29WFxobShr7ySBB7PnHkW9skg9n7r6XsHFPWLvi_oVvxW5j9sdg&amp;s\"/>,\n",
       " <img alt=\"\" class=\"DS1iW\" src=\"https://encrypted-tbn0.gstatic.com/images?q=tbn:ANd9GcQzpcIU7dfuDUwnfVicwX55FyXB74NmIYBsYASjXG14CzzeoJgnjp3EwVyM-fQ&amp;s\"/>,\n",
       " <img alt=\"\" class=\"DS1iW\" src=\"https://encrypted-tbn0.gstatic.com/images?q=tbn:ANd9GcRyEhyQISFhWtQJCI1_j2uetXzZKnepmT3dxKANdpiPmWnnj8Gdqvb63KJVg2A&amp;s\"/>,\n",
       " <img alt=\"\" class=\"DS1iW\" src=\"https://encrypted-tbn0.gstatic.com/images?q=tbn:ANd9GcQlMvY-iY7YG-yHrntskJ5QBswKPYDXEDnNkf8n5hRVGjLQG_SQ9yNGJyZMieY&amp;s\"/>,\n",
       " <img alt=\"\" class=\"DS1iW\" src=\"https://encrypted-tbn0.gstatic.com/images?q=tbn:ANd9GcSo5G2K7wQy0WHI21HS4jp-CjrMjD14OSguMjffqG7aZgaL4xhLvKpWx_9-9rk&amp;s\"/>,\n",
       " <img alt=\"\" class=\"DS1iW\" src=\"https://encrypted-tbn0.gstatic.com/images?q=tbn:ANd9GcSEfwMAq1hLmVnSjWH7q_HT6xXJoOmdooQ-ejmuDAaUZOXNH3z2RlEot7xBXg&amp;s\"/>,\n",
       " <img alt=\"\" class=\"DS1iW\" src=\"https://encrypted-tbn0.gstatic.com/images?q=tbn:ANd9GcRI7vcDXmoBIW3M8Dz434GoX1-gnN0QGTVVBzKsjGnHlht8UtaunFFthizNRFc&amp;s\"/>,\n",
       " <img alt=\"\" class=\"DS1iW\" src=\"https://encrypted-tbn0.gstatic.com/images?q=tbn:ANd9GcRduDbrAcVJJ0sLlH19dvvQmWvoxI-cdMhPtS3zJZmiE_tqtuyBN1m54BbOT3A&amp;s\"/>]"
      ]
     },
     "execution_count": 41,
     "metadata": {},
     "output_type": "execute_result"
    }
   ],
   "source": [
    "soup1.find_all(\"img\")"
   ]
  },
  {
   "cell_type": "code",
   "execution_count": 42,
   "id": "f5ef72e9-e4d4-4997-a41b-abef421fde9e",
   "metadata": {},
   "outputs": [],
   "source": [
    "image_tags1=soup1.find_all(\"img\")"
   ]
  },
  {
   "cell_type": "code",
   "execution_count": 43,
   "id": "c0f2d7a7-acfc-4ef9-987e-fddeb12f7429",
   "metadata": {},
   "outputs": [],
   "source": [
    "del image_tags1[0]"
   ]
  },
  {
   "cell_type": "code",
   "execution_count": 44,
   "id": "8463aac7-8d52-4f02-b36f-17a68eb02fca",
   "metadata": {},
   "outputs": [
    {
     "data": {
      "text/plain": [
       "[<img alt=\"\" class=\"DS1iW\" src=\"https://encrypted-tbn0.gstatic.com/images?q=tbn:ANd9GcS6z7-SFsnJGcFDk4gIjsPOLoNw48eqboz5vGOB9yJax-bTP648Z59BR1b8sg&amp;s\"/>,\n",
       " <img alt=\"\" class=\"DS1iW\" src=\"https://encrypted-tbn0.gstatic.com/images?q=tbn:ANd9GcQ44XArRJpdXkL0UUziabFwLdmuP5S_rzEigLL7bU7XwFfz1H8oRspL9keLTg&amp;s\"/>,\n",
       " <img alt=\"\" class=\"DS1iW\" src=\"https://encrypted-tbn0.gstatic.com/images?q=tbn:ANd9GcSGBoBowe0iTNoXNSOG3vhOMnT3MAi77IkGWtJAOmeLfbxcvbtLXG2bdlMAGw&amp;s\"/>,\n",
       " <img alt=\"\" class=\"DS1iW\" src=\"https://encrypted-tbn0.gstatic.com/images?q=tbn:ANd9GcS3jQuzvYL35NFCG6HCT3TtW5G8c_NKIHx6d5prWv0oGhvKkbFfqMer4e1Ayg&amp;s\"/>,\n",
       " <img alt=\"\" class=\"DS1iW\" src=\"https://encrypted-tbn0.gstatic.com/images?q=tbn:ANd9GcQXo6XEETO3O0WcVELeagaDJqTwh91_Li1KhAFaIU3ZTHUn-rIt5w9Q7tofF3g&amp;s\"/>,\n",
       " <img alt=\"\" class=\"DS1iW\" src=\"https://encrypted-tbn0.gstatic.com/images?q=tbn:ANd9GcQZ5k132_51c4QXHyrE895-FjZ1218wRWvoQ_ugCKsbD855nN0DDXhXPTNgx5E&amp;s\"/>,\n",
       " <img alt=\"\" class=\"DS1iW\" src=\"https://encrypted-tbn0.gstatic.com/images?q=tbn:ANd9GcQx-MBzYLePIzcwJ288RTrEAAD2CWXJIt0YI5mQsW9rGzdfT4qJrLOZRMiDng&amp;s\"/>,\n",
       " <img alt=\"\" class=\"DS1iW\" src=\"https://encrypted-tbn0.gstatic.com/images?q=tbn:ANd9GcQPXsahVXXzC8M88QNC8qAEwwL6kEEpRGhBPz4jwmU1qSP10JEm0CrCaVmeBA&amp;s\"/>,\n",
       " <img alt=\"\" class=\"DS1iW\" src=\"https://encrypted-tbn0.gstatic.com/images?q=tbn:ANd9GcQqlfmX0A6aqgCIKWT1Z1RonJP6SVRPuAvW2Ghq3stk3Z7EXIIhT0cmJlBDJg&amp;s\"/>,\n",
       " <img alt=\"\" class=\"DS1iW\" src=\"https://encrypted-tbn0.gstatic.com/images?q=tbn:ANd9GcQoEI0lrzfCd2P3-UMeOjrh08DjAlHvyra6xSsHHoaw-RH4ibKaFFuXIrFuFg&amp;s\"/>,\n",
       " <img alt=\"\" class=\"DS1iW\" src=\"https://encrypted-tbn0.gstatic.com/images?q=tbn:ANd9GcTlKbjcCiqQABitu8fzzon74htWYeEEupYTiKVe8n9-ijZwlmQqLcf3ZX3latI&amp;s\"/>,\n",
       " <img alt=\"\" class=\"DS1iW\" src=\"https://encrypted-tbn0.gstatic.com/images?q=tbn:ANd9GcS0euJlaJatflb_A_f0fOsUWhmftdGJmZ4AkW8T0lMnPAfCkqnP4nVi2B5oicg&amp;s\"/>,\n",
       " <img alt=\"\" class=\"DS1iW\" src=\"https://encrypted-tbn0.gstatic.com/images?q=tbn:ANd9GcTYQSGYIQ-29WFxobShr7ySBB7PnHkW9skg9n7r6XsHFPWLvi_oVvxW5j9sdg&amp;s\"/>,\n",
       " <img alt=\"\" class=\"DS1iW\" src=\"https://encrypted-tbn0.gstatic.com/images?q=tbn:ANd9GcQzpcIU7dfuDUwnfVicwX55FyXB74NmIYBsYASjXG14CzzeoJgnjp3EwVyM-fQ&amp;s\"/>,\n",
       " <img alt=\"\" class=\"DS1iW\" src=\"https://encrypted-tbn0.gstatic.com/images?q=tbn:ANd9GcRyEhyQISFhWtQJCI1_j2uetXzZKnepmT3dxKANdpiPmWnnj8Gdqvb63KJVg2A&amp;s\"/>,\n",
       " <img alt=\"\" class=\"DS1iW\" src=\"https://encrypted-tbn0.gstatic.com/images?q=tbn:ANd9GcQlMvY-iY7YG-yHrntskJ5QBswKPYDXEDnNkf8n5hRVGjLQG_SQ9yNGJyZMieY&amp;s\"/>,\n",
       " <img alt=\"\" class=\"DS1iW\" src=\"https://encrypted-tbn0.gstatic.com/images?q=tbn:ANd9GcSo5G2K7wQy0WHI21HS4jp-CjrMjD14OSguMjffqG7aZgaL4xhLvKpWx_9-9rk&amp;s\"/>,\n",
       " <img alt=\"\" class=\"DS1iW\" src=\"https://encrypted-tbn0.gstatic.com/images?q=tbn:ANd9GcSEfwMAq1hLmVnSjWH7q_HT6xXJoOmdooQ-ejmuDAaUZOXNH3z2RlEot7xBXg&amp;s\"/>,\n",
       " <img alt=\"\" class=\"DS1iW\" src=\"https://encrypted-tbn0.gstatic.com/images?q=tbn:ANd9GcRI7vcDXmoBIW3M8Dz434GoX1-gnN0QGTVVBzKsjGnHlht8UtaunFFthizNRFc&amp;s\"/>,\n",
       " <img alt=\"\" class=\"DS1iW\" src=\"https://encrypted-tbn0.gstatic.com/images?q=tbn:ANd9GcRduDbrAcVJJ0sLlH19dvvQmWvoxI-cdMhPtS3zJZmiE_tqtuyBN1m54BbOT3A&amp;s\"/>]"
      ]
     },
     "execution_count": 44,
     "metadata": {},
     "output_type": "execute_result"
    }
   ],
   "source": [
    "image_tags1"
   ]
  },
  {
   "cell_type": "code",
   "execution_count": 45,
   "id": "2619fb7b-46b1-4bc2-ab2d-f4d7aa3c42bd",
   "metadata": {},
   "outputs": [
    {
     "data": {
      "text/plain": [
       "20"
      ]
     },
     "execution_count": 45,
     "metadata": {},
     "output_type": "execute_result"
    }
   ],
   "source": [
    "len(image_tags1)"
   ]
  },
  {
   "cell_type": "code",
   "execution_count": 47,
   "id": "4c5941bc-2667-43ca-8494-4088f92c27d0",
   "metadata": {},
   "outputs": [
    {
     "name": "stdout",
     "output_type": "stream",
     "text": [
      "https://encrypted-tbn0.gstatic.com/images?q=tbn:ANd9GcS6z7-SFsnJGcFDk4gIjsPOLoNw48eqboz5vGOB9yJax-bTP648Z59BR1b8sg&s\n",
      "https://encrypted-tbn0.gstatic.com/images?q=tbn:ANd9GcQ44XArRJpdXkL0UUziabFwLdmuP5S_rzEigLL7bU7XwFfz1H8oRspL9keLTg&s\n",
      "https://encrypted-tbn0.gstatic.com/images?q=tbn:ANd9GcSGBoBowe0iTNoXNSOG3vhOMnT3MAi77IkGWtJAOmeLfbxcvbtLXG2bdlMAGw&s\n",
      "https://encrypted-tbn0.gstatic.com/images?q=tbn:ANd9GcS3jQuzvYL35NFCG6HCT3TtW5G8c_NKIHx6d5prWv0oGhvKkbFfqMer4e1Ayg&s\n",
      "https://encrypted-tbn0.gstatic.com/images?q=tbn:ANd9GcQXo6XEETO3O0WcVELeagaDJqTwh91_Li1KhAFaIU3ZTHUn-rIt5w9Q7tofF3g&s\n",
      "https://encrypted-tbn0.gstatic.com/images?q=tbn:ANd9GcQZ5k132_51c4QXHyrE895-FjZ1218wRWvoQ_ugCKsbD855nN0DDXhXPTNgx5E&s\n",
      "https://encrypted-tbn0.gstatic.com/images?q=tbn:ANd9GcQx-MBzYLePIzcwJ288RTrEAAD2CWXJIt0YI5mQsW9rGzdfT4qJrLOZRMiDng&s\n",
      "https://encrypted-tbn0.gstatic.com/images?q=tbn:ANd9GcQPXsahVXXzC8M88QNC8qAEwwL6kEEpRGhBPz4jwmU1qSP10JEm0CrCaVmeBA&s\n",
      "https://encrypted-tbn0.gstatic.com/images?q=tbn:ANd9GcQqlfmX0A6aqgCIKWT1Z1RonJP6SVRPuAvW2Ghq3stk3Z7EXIIhT0cmJlBDJg&s\n",
      "https://encrypted-tbn0.gstatic.com/images?q=tbn:ANd9GcQoEI0lrzfCd2P3-UMeOjrh08DjAlHvyra6xSsHHoaw-RH4ibKaFFuXIrFuFg&s\n",
      "https://encrypted-tbn0.gstatic.com/images?q=tbn:ANd9GcTlKbjcCiqQABitu8fzzon74htWYeEEupYTiKVe8n9-ijZwlmQqLcf3ZX3latI&s\n",
      "https://encrypted-tbn0.gstatic.com/images?q=tbn:ANd9GcS0euJlaJatflb_A_f0fOsUWhmftdGJmZ4AkW8T0lMnPAfCkqnP4nVi2B5oicg&s\n",
      "https://encrypted-tbn0.gstatic.com/images?q=tbn:ANd9GcTYQSGYIQ-29WFxobShr7ySBB7PnHkW9skg9n7r6XsHFPWLvi_oVvxW5j9sdg&s\n",
      "https://encrypted-tbn0.gstatic.com/images?q=tbn:ANd9GcQzpcIU7dfuDUwnfVicwX55FyXB74NmIYBsYASjXG14CzzeoJgnjp3EwVyM-fQ&s\n",
      "https://encrypted-tbn0.gstatic.com/images?q=tbn:ANd9GcRyEhyQISFhWtQJCI1_j2uetXzZKnepmT3dxKANdpiPmWnnj8Gdqvb63KJVg2A&s\n",
      "https://encrypted-tbn0.gstatic.com/images?q=tbn:ANd9GcQlMvY-iY7YG-yHrntskJ5QBswKPYDXEDnNkf8n5hRVGjLQG_SQ9yNGJyZMieY&s\n",
      "https://encrypted-tbn0.gstatic.com/images?q=tbn:ANd9GcSo5G2K7wQy0WHI21HS4jp-CjrMjD14OSguMjffqG7aZgaL4xhLvKpWx_9-9rk&s\n",
      "https://encrypted-tbn0.gstatic.com/images?q=tbn:ANd9GcSEfwMAq1hLmVnSjWH7q_HT6xXJoOmdooQ-ejmuDAaUZOXNH3z2RlEot7xBXg&s\n",
      "https://encrypted-tbn0.gstatic.com/images?q=tbn:ANd9GcRI7vcDXmoBIW3M8Dz434GoX1-gnN0QGTVVBzKsjGnHlht8UtaunFFthizNRFc&s\n",
      "https://encrypted-tbn0.gstatic.com/images?q=tbn:ANd9GcRduDbrAcVJJ0sLlH19dvvQmWvoxI-cdMhPtS3zJZmiE_tqtuyBN1m54BbOT3A&s\n"
     ]
    }
   ],
   "source": [
    "for i in image_tags1:\n",
    "    print(i['src'])"
   ]
  },
  {
   "cell_type": "code",
   "execution_count": 48,
   "id": "caeb51f6-b6cc-40f3-a711-be00377ec6fb",
   "metadata": {},
   "outputs": [
    {
     "data": {
      "text/plain": [
       "b'\\xff\\xd8\\xff\\xe0\\x00\\x10JFIF\\x00\\x01\\x01\\x00\\x00\\x01\\x00\\x01\\x00\\x00\\xff\\xdb\\x00\\x84\\x00\\t\\x06\\x07\\x08\\x07\\x06\\t\\x08\\x07\\x08\\n\\n\\t\\x0b\\r\\x16\\x0f\\r\\x0c\\x0c\\r\\x1b\\x14\\x15\\x10\\x16 \\x1d\"\" \\x1d\\x1f\\x1f$(4,$&1\\'\\x1f\\x1f-=-157:::#+?D?8C49:7\\x01\\n\\n\\n\\r\\x0c\\r\\x1a\\x0f\\x0f\\x1a7%\\x1f%77777777777777777777777777777777777777777777777777\\xff\\xc0\\x00\\x11\\x08\\x00\\x8c\\x00\\x8c\\x03\\x01\"\\x00\\x02\\x11\\x01\\x03\\x11\\x01\\xff\\xc4\\x00\\x1c\\x00\\x00\\x02\\x03\\x01\\x01\\x01\\x01\\x00\\x00\\x00\\x00\\x00\\x00\\x00\\x00\\x00\\x04\\x05\\x02\\x03\\x06\\x01\\x07\\x00\\x08\\xff\\xc4\\x006\\x10\\x00\\x02\\x01\\x03\\x02\\x04\\x03\\x06\\x04\\x05\\x05\\x00\\x00\\x00\\x00\\x00\\x01\\x02\\x03\\x00\\x04\\x11\\x12!\\x05\"1A\\x13Qa\\x06\\x142Bq\\x81#\\x91\\xa1\\xb1\\x15$R\\xc1\\xd1\\x073br\\xf0\\xff\\xc4\\x00\\x19\\x01\\x00\\x03\\x01\\x01\\x01\\x00\\x00\\x00\\x00\\x00\\x00\\x00\\x00\\x00\\x00\\x00\\x01\\x02\\x03\\x00\\x04\\x05\\xff\\xc4\\x00 \\x11\\x00\\x03\\x01\\x00\\x02\\x03\\x00\\x03\\x01\\x00\\x00\\x00\\x00\\x00\\x00\\x00\\x00\\x01\\x11\\x02\\x03!\\x121A\\x132Qa\\xff\\xda\\x00\\x0c\\x03\\x01\\x00\\x02\\x11\\x03\\x11\\x00?\\x00\\xab\\xd9\\x88\\xe6^\\'\\x1a\\xc51\\x8bb\\xc4\\xfd\\xab\\xd1\\x17\\x8a\\xab.\\x03#m\\xd7\\x18\\xaf<\\xe1\\xf7i\\r\\xca\\xce\\xb8\\xc8\\xd8\\xd6\\x88\\\\$\\x90f9@\\xf4\\xa8\\xebL\\xaa\\xc9\\xae\\xb0\\x9cIk\\x19\\xc8\\xce7\\xa2C\\xd6\"+\\x89\\xa1\\x95t;\\x00\\xc38\\xedZ\\x1e\\x15\\x7f%\\xd3\\x14u\\x1c\\xa3$\\x8a)\\xb1Z\\x1b\\xeb\\xa08\\x95\\xb4\\xd7j#GTN\\xe4\\x8a/>\\xb5\\xf1 u4\\x18\\xa6;\\x8bX\\xdbD\\xe1430\\x1b\\xb3\\xf7\\xa4\\xf7\\n\\x14\\xe1p\\xa2\\xb4\\\\y\\xc9\\x9d\\x8b)\\xc7\\xa9\\xac\\xc5\\xdc\\xc0j\\xc8\\xcf\\x95\\x0c\\xa01_\\x11a\\xb8P=h8\\xef|8\\x8a\\xb2\\x96=\\xb2zQW\\x054\\x923\\xa8\\xf9\\xd0\\xaeb\\n\\x17I/\\xe7W\\x8a\\x13\\x03\\xb8\\x95\\xd9w\\\\yP\\x81\\x08m\\xbe3\\xd7\\x14\\xcb\\xc1L3\\xb3\\x81\\xf5\\xa0\\x84\\xc62\\xc25\\x05\\xb3\\xf1u\\xfd+/\\xf0d\\x99\\xc9fU\\x8c\\xc63\\xab\\xbe{\\xd0l\\\\\\xa8\\x1e\\x7f\\xad1\\x82\\xcaY9\\xe4\\xdb>}h\\xf8m Ni\\x99p;R\\xb9\\x92\\xb9\\xe3z3\\x92\\xa1\\x8c.W\\x15\\xd1\\x1a\\xb4Y\\x07\\xbd1\\xe3\\x86\\x06\\xb5V\\x87\\xe2V\\xdczP\\x16r\\xa7\\x84\\xe5\\x97\\'\\xb52uSk\\t8Z\\x97R\\xf8\\x02-D\\xa0\\xe8*\\xd8\\xd9\\x8a\\x82\\xb9\\xc5R\\xfa\\x03d\\xf7\\xf2\\xab\\x94G\\xa4a\\xb0>\\xb4\\xb0U\\x9e\\xc3xu\\xd3\\xb4\\xcb\\xa0n7\\xadM\\xbc\\xd2 \\x05\\xa1\\xc9>F\\xb2\\xf61xgX\\x03jqkr\\\\\\x92YT\\x03\\x81[Y\\xbe\\x87Zhu\\x1d\\xc0\\x9bul\\x11\\xd8\\xf5\\xa6\\\\+\\x88\\x0byrO]\\x8df\\x1d\\x8cO\\xa9\\x9b\\x04\\xee1D\\xc1t\\xa0jl\\x12;\\xf7\\xa5\\x86\\xb4\\xde\\x9e$\\x18roB\\xb5\\xe4\\xc5\\x9b\\x12\\x1e\\xbd+?\\x1f\\x14\\x84\\x80\\x8cpH\\xcdLq\\x18\\xc0-\\xe2\\x13\\xf7\\xa1\\x19\\xa4\\n\\xbf\\x91\\xa4$\\xb9\\xc9\\xac\\xf5\\xc65\\xe4\\xef\\xe4)\\x93^\\xc7pJ\\x86j[pc\\xd5\\xca\\xdd\\xe8\\xe70F\\x80f\\x80\\xfcLB\\x8f.\\xf4\\x1bC\\xb6\\xc0\\xf5\\xa6\\xebl\\xf3\\xb8X\\xd4\\xbb\\x1e\\x82\\x98\\'\\xb3\\x17\\xde\\x17\\x88|0\\x06\\xfasM\\xaeE\\x9fl9\\xe1z\\xf4\\x8c\\xab\\xd8\\xc8F\\xa7\\xc2\\x81\\xb9$\\xedTG\\x03\\x1d\\xe3\\xd8v u\\xa6\\x97I0\\x91\\xe2\\x9f*W<\\xb5\\x7f\\x0f\\x85Y\\x15v\\'H?\\xa9\\xac\\xf7\\xd5\\x1dc\\xb8(\"\\xde \\x1aFwa\\xb1\\xdf\\xa5\\x07{td\\x8c\\xf8\\n\\x16<\\xe3=\\xcd=6)\\'\\xbc\\x02A\\x06R\\x05\\x03?\\x0eQ\\xa6\\xde6\\r\\x86\\xcbd`PS\\xe8\\xce\\xfc\\x12hk\\x88e\\x0cr\\x14f\\x84\\xb2\\x1f\\x8a\\x11\\xba\\x13ZKk\\rs\\xdd(\\n\\x00\\x1b\\x05\\xe9\\x8a\\xce2\\x18.\\x8a\\x1c\\x82\\xadL\\xb5\\\\\\x11\\xa8\\x93\\n\\x9a\"\\x1c\\x8f*\\x9cI\\xc8(\\xc8m\\xbd\\xe0j,\\x06k\\xad\\x01\\x88\\xe9 mE\\xbe\\x8d\\x0bc\\x88x\\xa5[-\\x81\\x93\\xa7q\\x8a\\x94\\x12$S8#Tx\\xc8\\xd4j\\xb3\\x1d\\xc4\\x10\\xbb)&3\\xca\\xce\\xbd*\\x85E\\xf0\\x1aMz\\xbe\\xa6\\x95\\xb1\\xa0\\xd2K\\xa3&\\x0ca\\x13#\\x05\\xb3\\xd4\\xd1\\x82\\xc6y K\\x81\\xba0\\xdc\\x86\\x1b\\x01\\xd7\"\\x92\\xd8\\xc8\\x84$`\\x85w\\xd8\\x12>\\x11\\xe9W\\xc1=\\xd5\\xbcw)\\x14\\xccP\\xb0\\x05Y\\xba\\xd27B\\x90\\xd2`\\xd1\\xb4e\\xdcl9\\x067=*\\x92\\xe8mE\\xc1c\\xb3\\xe0\\xa8\\xf3\\xaa\\xeed\\xb6\\x86(\\xa4\\x91\\xe4\\x92c\\xdf<\\xa2\\x95\\xddO\"\\xa8\\n\\x8c\\x14\\x92wlf\\xb2}\\xf46\\xb0\\xd2\\xecp\\xd7\\xe4D\\x1e0\\x06\\xbe\\xe6\\x8e\\x93\\x85\\xc8`\\x8eU\\x9fT\\x84j+\\x8e\\x94\\x8e\\xdd\\xc4v\\x84\\xdcB\\xcd\\x85\\xe4$t\\x15o\\x03\\xbd\\xba\\xbc\\xe2\\x10[\\x86b\\x19\\xfa\\x16\\xec>\\xfe\\x95\\xb5\\xa7\\xf0\\xd9\\xc2\\xf6z\\x07\\xb2\\xd6Q\\xc3n\\xcc\\xe0\\xb4\\x85\\xf0sZ\\xb3\\x02$Y\\xce\\x01\\xedY>\\x17p\\xc7\\x87\\xdc^B\\x86P\\td\\n\\x0f6\\xc3}\\xb7\\xaa8W\\xb5|G\\x88N\\xf6\\xb7\\\\/A@H\\x952\\x17\\x039\\xc8;\\x83\\xb7\\x9e\\xf5\\xc8\\xebt\\xea\\x9e\\xa0\\xb7\\xdb\\xa4\\x8e\\t\\x84\\xb1\\xf2\\xb6\\xa0\\x0f\\xa84\\x8a\\'FDr\\xe4i\\x1ap\\x0e\\r}\\xed\\x0f\\xb4V\\xdci\\x90Am:)9W}\\x81\\xc5/\\xb8\\x13Gl%F\\x8c\\x01\\xf2\\x9e\\xa6\\xad\\xc7\\xfa\\xc6O\\x927PP\\x95\\xd1YQ\\xb1\\xcf\\x9c\\x03\\x8c\\xd5\\tv\\xccu\\x95\\xd2rCW\\xd6A\\xc7\\x14\\xb5Y\\x06\\x9d[\\xc8\\xad\\xbe\\x06<\\xa8\\xee\\'e\\x1d\\x9d\\xb2\\xf8di\\'\\x01\\x8fSUO\\xe1\\x1e\\xca\\xec\\x9c#I,m\\x9dCaY\\x8b\\xfd^\\xf4\\xcc\\xe3\\x0eNM3\\xf7\\xb1o\\x11B\\xc4\\xe4\\xe7#\\xb5w\\xf8E\\xc5\\xd2\\xfb\\xdc\\xc3D\\x07\\xa3\\xb7\\xcd\\xf4\\xa6]:+\\xadB\\xe4\\x11I\\xc3\\xa1\\x9a6 \\x85\\x00\\x81\\xdd\\xb2hf\\x92Y\\xce\\xb4]\\xbaoD\\xf0\\xdbc#\\xdcC\\x16\\xa7\\xe5\\xc2*\\xf6=\\xcdJKY\\xa1+\\x1b\\xc4\\xc0\\x81\\xdb|\\xd6\\xaf\\xe0\\'\\xf4\\x8e^\\xe1\\x05\\x9d\\xb1iY\\xf7\\xd2\\xa7z\\xef\\x13\\xe1\\xf7\\x96\\x10\\xc3\\x11]Z\\xc7\\xca3\\x83\\xe5A;\\xdbZ\\\\,\\xb6L\\xcb*\\x91\\x83\\xdb5\\xac[\\xd3-\\xbc\\xd2\\xcayV,\\xb6({\\x0bp\\xef\\x06\\xe0\\xd6K\\xc1\\xe6l$\\xb7\\xac\\x8d\\x97o\\x94\\xf6\\x02\\x92\\xba\\xda\\xdbX\\x84\\xb9\\xdaW%\\x97O\\xc5@\\xa7\\x11\\xbf@\\x93\\xdb:*\\x1e\\x8b\\xdf\\x1e\\xb4\\x12\\xdf\\xbd\\xd5\\xe2\\x99\\x18$\\x91\\xa65c\"\\xb3\\xcct\\t\\xde\\x8b\\xa1\\xbe\\x89\\xefaW\\x05\\xe2W\\xdd\\x18\\xe34\\xce\\xf6\\xd6;\\x99\\xb5\\xdb\\xe3\\x19\\xe5\\x88v5\\x98\\xbc\\x91\\xa5\\xbb\\x8d\\xd5\\x81b\\xfbaqZ\\x0e\\x17;#\\xbc\\xa4\\xe7\\xc3\\xde\\x83K\\xd8\\xebN\\xc6\\x11\\xc4-e\\x1c8\\xa30\\xf1P\\xe3\\x00\\xd2\\xb8.\\xa4\\xe1\\xc6)\\x95B\\xb27Q\\xbeM3\\x9a\\xe0\\xc96\\xed\\xb3\\x1d\\xfe\\xf4\\x96\\xf0\\x17\\xba\\xc2\\xf4S\\xb1\\xecM\\x05\\xec\\xdbq\\x1e\\xa7\\xec\\x8f\\x12\\x8eh\\x9ekBD/\\'*\\xb66\\xc8\\x19\\x1f\\x9d0\\xbf\\xe2\\x96\\xbc>\\x19.\\xa6\\x80\\xc1i\\xbe\\xbb\\x94\\x8f \\x9c|\\xd8\\xdf\\x1d\\xb3X\\xbff.L\\x1c\\x14\\xb5\\x94e\\xa6\\xb6b\\xf3\\xc472FO\\xc4\\x07\\x9a\\x9d\\x8f\\xa1\\xa67\\x97q\\xdfp\\xd7\\x92\\xdb\\x88D\\x8c\\xc7\\xf1\\x16I\\x9c\\x1c\\xff\\x00\\xd7\\xa0\\xfc\\xab\\x9fY\\x9a:3\\xa5\\xac\\x98\\xd5\\xbc\\x80\\xf0\\xe8\\x95T3\\xae\\xad27\\xca\\xba\\x8f\\xef\\x91C\\xaf\\x10\\x12\\xc6\\xd1\\x92\\x00B\\x08\\x07\\xbe+\\x96\\xa68\\xae%\\x85\\x9du\\x01\\xb6\\xd9\\x06\\xa8hS\\xde\\x1d\\x8705\\xd1\\x84\\x9fL\\x87&\\x9c\\xa9\\x9a\\xf8-\\xed\\x16\\x14\\xbc\\xbc`ne\\x8c6\\x80p\\x10\\x1e\\x99\\xa0o.\\xa2\\xbe\\x9c\\xebT\\x90D\\x9aT\\x16 \\x0f\\xf3]\\xc4Ig\\xaafh\\x9bO9\\x07\\xe2\\x18\\xd8~\\x82\\xb3p\\xe4\\xca]\\x9b\\x99\\xb6$PI\\xb6\\xe0\\xdai%B\\x84\\x9c\\x8d\\x08PAl\\xe4~\\xd4}\\xf3\\xc7\\xee\\xeaVI\\xcb\\x81\\xa7\\x078\\xa18-\\xbd\\xc4\\xf3<a\\x03D\\x0e\\x0c\\x87`*<XM\\x05\\xc8C\\x96Q\\xb6GB)\\xda\\x84\\xd6\\xad\\xe8\\xb6)Dp!F\\xd1\\x95\\xc3v\\xefR~+\\xa0\\xe9\\x123c\\xbe\\xe6\\x84\\xba C\\x1eFbg\\x19\\xd27\\x14\\xc5\\xad\\x13m2\\x95\\x18\\xd8\\x006\\xa5\\xd6\\x96GY\\xf2\\xf4\\'\\x92\\xf6V\\x9e5\\x95\\x8e\\x85l\\x91\\x8a\\xd3ZL\\x92Y\\\\F\\xac2\\xe0\\x0e\\xbd\\xab4\\xda\\x08\\x00\\xa2\\x86\\xcfZ\\x93O\\xe0\\x11\\xa1\\xb1\\x8e\\xb4\\xc1\\xfcO\\xdb\\'u\\xe0\\xc5\\x1e\\x90\\xf2)\\xf8p\\x0e\\xc2\\x84\\x8e\\xcc\\xcc\\x92M\\t:S`\\xc7\\xa9\\xa8]8\\xba\\x9bTri\\x07\\xe2&\\x9d\\xf0\\xdb%\\x16ab\\x9f$\\xef\\x9e\\xbf\\x9d\\r8\\x84\\xca\\xacMe\\x1bD^I\\x97\\xe8Oj*+\\xaf\\x01$\\x03vs\\xb0\\x1eT\\xde\\x1e\\x07\\xefI!\\x92\\xfe\\x18tgfRsH-S\\xf1\\xdaBA\\x00\\xecG\\x96kgT\\x1c\\x93>\\x83!\\x8aY\\x98\\x19_+\\x9c\\x95\\x1bf\\x8e\\xbe\\x85\\x1e\\xdb\\xc4A\\xf0\\xf5\\xc7\\x95\\x08\\xd2xn\\xbeL\\xd8\\xa9\\xd9\\\\\\xf2\\xe8}\\xc3\\x7f\\x9ar\\r\\xd2<3\\x8a\\xdd\\xf0{\\xe8\\xe7\\x82P\\x92Fz\\x1d\\xc3)\\xeb\\xf5\\x06\\xb7\\xd7\\x1c:\\xc7\\x88p\\xb8\\xae\\xedV\\x08\\xe7\\xb9\\xd2J.IRN\\xf8\\x19\\xc7\\xe9^}$\\x11\\xdcDam\\x9dA1\\x9f/J\\xd5\\xff\\x00\\xa7\\x9e\\xd0%\\xb1K;\\xdeV*U$8\\xea\\x0e\\xc3\\xf5?\\xa5&\\x90\\xcbBOkx:\\xf0~#gp\\xaa\\xcb\\x1c\\xaaC\\x17n\\xac<\\x87jM\\xa2\\xe2b\\x1a%\\xd2\\x80\\xf5\\x15\\xa5\\xff\\x00S \\xba\\xbb\\x9e.%+k\\x18\\xd0B\\xf4Q\\xd8\\xfe\\x86\\xb2\\x16\\xd7\\x04\\x07I\\x9aO\\x87\\x0b\\x83L\\x9bK\\xa0\\xa8\\xdca\\xd0<\\xb7I-\\x99r$Q\\xa9\\x0f_\\xb5}4\\x1e\\n)\\x1d\\x1cm\\x9e\\xc6\\xa5\\xc2b+p%\\\\\\xe9\\x03N\\xa3\\xdc\\xd1\\xbcT.a@2\\x0bmN\\xbdS?\\xe03\\xdf\\xce\\x9f\\x83j\\x1c*\\xed\\x84\\xebUAyp\\xd7kot\\x1c\\x89\\x18.\\x1f\\xa8\\xfb\\xd5\\xf0\\xa4\\xc3[@\\x81\\x95\\x9f\\x98\\x9f\\x94P\\xf3Fb\\xbaf{\\x81#$\\x83N?:\\x93\\xda\\xb0\\xaa\\xe3iSM\\xfc.\\x08\\xe0/!\\xf1\\x1c~B\\x81\\xb8\\xe1\\xa2iY\\xfd\\xe1\\x94\\x1e\\x80\\n>\\xce\\xe8\\\\[\\x17\\xed\\xab\\x1f\\x95\\x0c\\xd2\\x15b\\x06\\xe3;T\\x1bl\\xaa\\xe8\\xcf1\\x060\\xeb\\xb9\\xf3\\xa52\\xcc\\xee\\xe4\\x1c\\x9c\\x9a1$T\\xc2\\x83\\xb7M\\xeb\\xb6\\xb0b\\xe0\\x96MK\\x8c\\xea\\xf2\\xae\\x9f@\\xe4~I@vH\\xfc&e,4\\xe3\\'\\x1d\\xeb\\xee\\x1by,\\x17k\\xa1\\x8e\\xe7\\x04Q\\xf7n\\xab\\x11EU\\xc3u\\xda\\x85\\xb7\\x8d\\x16S&\\x06{R\\xf9U\\xd9\\'\\x99\\xe8a\\xc4\\xaf\\xa5\\x8e\\xda\\x10\\xaeA\\x90\\x16o\\xbe\\xc2\\xab\\xb7\\nmF\\x0e2\\xb8>\\x86\\x97\\xdfK\\xae\\x1b|\\x92X\\x92>\\xc3j\\xba\\xd6]\\x19\\x8c\\xf4<\\xc3\\xfb\\xd1\\xc2\\x88\\x9f#\\xac\"yu@s\\xb1]\\x8f\\xa1\\xaf\\xad\\xa5\\xd4\\x91\\xe7\\xae7\\xa0\\xee\\x1fv\\xc7F\\x18\"\\xa7l\\xd8*\\x0f\\x950\\x81\\xa2B\\n\\xba\\xff\\x00Y\\xfd\\xeb\\xa1\\xb4\\xdcH\\x83\\xe7:\\xd7\\xd0\\xff\\x00\\xe1TD\\xdf\\xca\\xa9\\xf3c\\xfb\\xd7\\'|K\\x13w+\\x8a\\xc65\\xdf\\xc5\\x13\\x8a\\xfb3siq\\x85\\x9e\\x08\\xc3\\x02~`\\x0f\\xef\\xbdb\\xa6A\\xe1\\x82\\xbf\\x1av\\xf4\\xff\\x00\\xdf\\xbd\\x15$\\xd8\\xcc\\xa9\\x8d,7\\x1e\\x87\\xad\\n\\xd2h\\x98\\x8d\\x8f\\xf8\\xe9Y(b\\xee\\x1f<\\x91\\x01\\xccJ\\x13\\x9cSk\\xd6\\x13A\\x04\\xa9\\xbe\\x97\\xde\\x91D\\xde\\x1eFv\\x06\\x9d{8\\x93\\xde\\xcf*\\xc4\\x10\\xaanK\\x8d\\x96\\x9d\\xb4\\xb3Xs\\xdb\\xe8\\x8c\\x16\\xf7q,\\x8e\\xca\\xca\\x8d\\xd3V\\xd9\\xa5\\r!\\xf7\\xad8#\\x07|\\xd6\\xa6\\xff\\x00\\xde\\x98\\x94\\x9c\\xa3\\xa8\\xf9\\xa3\\xdb\\x1fcY\\xeb\\x85O\\x10\\xb1\\x03V6#\\xbdEKQ\\xd0\\x9b\\x93A\\xdc6\\xfc\\xc1\\x19G\\xe8NE]\\xef2\\xb6J.Fz\\xd2t\\xec\\x18\\xe0\\r\\xcd\\x16.\\xe4\\xf9Ji\\xed\\xb5g\\xc6\\xa8\\x9f\\x90Yma5\\xe1E\\xb5%\\xe5c\\x80\\x83\\xa9\\xad\\xdd\\xaf\\xb33\\xd8p\\xedZ\\x96Y\\xb1\\x97\\\\u\\xf4\\x06\\x9f{\\x15\\xec\\xf4\\x1c+\\x87\\x8b\\x86\\x8f\\x17s\\xa6\\xa2O\\xc8\\x0fAO\\xf8\\x82\\x07Et]\\xc8\\xe9\\xfd\\xaa;\\xe6\\xba\\x88|\\xf1\\xc4x\\x8f\\x14\\x80\\xc5 \\x92\\x02\\xde\\x03\\x1f\\x87\\xfa\\x0f\\x95\\x0c\\x84\\xe95\\xa9\\xf6\\xa2\\xd8[q\\x194\\x8f\\xc3\\x9c\\x17\\x0b\\xea6a\\xfd\\xeb4\\xea\\xab&\\x91\\xf0\\xe3\"\\xba\\x14y$\\xdbL\\x12\\xe0f\\x18_;\\x06`~\\xf5r6\\x81\\x1c\\x9f\\xd0\\xd8?CU\\xde\\x15\\x08\\xaa\\x83`\\xd5(\\x99F\\x16O\\x82A\\xa4\\xfa\\x1a\"?d\\xae\\xd3\\xc38\\xecz\\x1a\\xae79\\x1fLT\\xae\\x03\\x18WY%\\xa3:O\\xd3\\xb5S\\x17_\\xb5\\x10\\x05\\xdbHL:{f\\xa5+e\\xa2\\xcf@qB\\xc2\\xe4f\\xa5,\\x9a\\x97\\x1fz\\x06&#r%\\xd3\\xa3\\nH\\xe6\\xaa\\xe7W\\n\\x18\\xb2\\x9f\\xa5L\\xb9\\xc3\\xe0\\x81\\xa92j2\\x12#p\\x1c\\x12\\x0ezQ\\x01Is\\xa8\\xef\\xeb[_d\\xc2[pB\\xecHy\\xd8\\xb1>\\x9d\\x05b>E>\\xbaMl \\x94C\\xc1m\\xc7EX\\xc1&\\xa7\\xce\\xdf\\x82E\\xb8\\'\\x959=\\xe6nYKs6?:Y\\xc4PG/\\x8a\\x06\\x15\\xbe!\\xfd\\'\\xd2\\x81\\x96\\xf3\\xf9\\xa4\\x95N\\xa0\\x0f\\xe7W\\xdd\\xde%\\xc2\\xed\\x91\\x91\\xbekc/(\\xdb\\xd2\\xd3\\x01\\xbc\\x94\\xe7J\\x9d\\xb1\\x93\\x8a\\x19.J\\x0c\\x10\\xc7\\xefD\\xc2\\xba\\xdc\\xa9\\xd3\\xd3\\xe6\\xa85\\x9agw\\x00\\xf9U<\\x92\\x17\\xf1\\xb6\\xaa?Bj\\xc0\\x04v5S\\xb7$\\x89\\xddN\\xa1\\xf4\\xa97-\\x94\\xad\\xe4\\xa4\\xd0\\xd7\\x12be(F\\x1b\\xaf\\xde\\xbc\\xdc\\x9dl\\xc4\\x7f\\xa8\\x08\\x16+k\\x94\\xf8|M\\xcf\\xd4oXy\\xdb/\\x9fL\\n\\xf4\\x1fl!\\xf18M\\xca\\x91\\x9f\\x0c\\x87_\\xa6s^n\\x1bVs\\xd4\\xf4\\xae\\xfe.\\xf2r\\xf2.\\xc1\\xee\\x1f`<\\x8d^\\x83Z\\xc9\\xb6TccC\\xdf.\\x85\\x07\\xd6\\xbbm1f\\x03\\x9aB~U\\x14\\xe4\\xc3\\xa6\\xc7\\xbb\\x10[}\\x88\\xcfz\\x12\\x13\\xcf\\xf6\\xab\\xee>\\x0eX\\xce\\xdb1\\xce@4\\x1cm\\x86o\\xfa\\x9a\\xc0.\\x88\\xe75\\xc7<\\xc2\\xab\\x89\\xb7\\xae\\xc8w\\x15\\x82X\\xcd\\xf0\\xec\\x0eF7\\xfa\\xd7\\x02\\x9d\\xf9c\\x19\\xf5\\x02\\xaa\\x95\\xc81\\xd7\\x01\\xeb\\xcd\\xfaQ@;\\x18.\\xc1;\\x96\\xa7\\x1cvv\\x0b\\x05\\xa2\\x13\\x85\\\\\\xb0\\x1e\\x94\\xab\\x87\\xe0\\xdc\\xc7\\x9e\\x9a\\xa9\\x85\\xc3\\x95\\xbbf\\x18.\\x13\\x03\\'\\xa6\\xf4\\xba\\xfd\\x91L\\xdf\\x17\\x05\\x84\\x91\\x83\\xe5_,\\xa4\\xbe*\\xe7\\xb5\\x90\\x90\\xe4\\x1d\\'\\xb0\\xa8\\xb5\\xb1B\\xac\\x01\\xdc\\xd3y!|t7\\xe1<;\\xde`3\\xc8\\xc4g:qA\\\\\\xc542\\x94nc\\xe6;\\xd3\\xf8&Hxj\\x02\\x00\\x1aGCY\\xfb\\x8b\\xe72\\xb6\\x0e\\xdd\\xa9>\\x95]#\\xdf\\xdc\\x7f\"\\xc0\\xef\\xa9\\r)Y\\x04\\x96\\xd1\\x16;h\\xc6\\xdecje\\xac\\x98\\x82m\\x80?\\xb5#C\\x8bI?\\xe3.\\x07\\xde\\xb8p\\x8b\\xb0.9\\x07\\xbcp\\xdb\\x80\\xd9\\xd6\\xaa\\xc0\\x81\\xdc\\x11^M\\x17\\xfb\\xc1Oa^\\xca\\xe7\\\\\\xd0\\xea\\xc1\\xf1S\\r\\xeb\\x8a\\xf1\\xfb\\xf4\\x10q{\\xa8\\xa3\\xf8RgQ\\x9f \\xc6\\xba\\xb8~\\xa2\\x1c\\xa4\\xa6\\x85%B\\xae2\\r\\x0fn\\x8bo!P\\xc5\\xdb\\xfe;\\x1a\\xbbQ\\xa0$\\x00\\xdf\\x14 `\\xeej\\xc4F\\xbe\\xf0\\xb3\\xe2%\\x89\\xc2\\x0e\\xaa:\\xd0Wi\\x1c_\\xed\\xb6X\\xe4\\x11\\x9c\\xe2\\x8c,R0\\x14\\x003\\x8f\\xad\\x0b\\xc4aQ\\x08\\x97$\\xb0=;V\\x00$m\\xcdRv\\xde\\xaa\\x8b\\xe0c\\xeb]\\'z&%3s\\xaf|\\x0e\\x95\\x02@\\xe9\\x91\\xf7\\xa8\\xc8\\x7f\\x17\\xf2\\xae1\\xe6\\xa2\\x8c\\x1db\\x9c\\xa9&z\\xb7Z\"v\\xd3x\\xad\\xd8u>u.\\x18\\xa0\\xd8)\\xc6\\xfa\\xcf\\xf6\\xa8]\\x1c\\xab\\x1e\\xf9\\xa0\\xd5c\\xadL\\x87Ex\\xad\\x11\\x04\\x0cyP\\xf3\\xcf\\x91\\xa5N\\xd9\\xee(q\\xb1 T\\x19\\xd8\\x8c\\x1a\\x9f\\x8aL\\xb7\\x9d\\xc8[,\\x92(\\x08\\xdd\\x07j\\x0e[9\\xd5\\xf0P\\xd3+\\x11\\x8c\\x0e\\xc6\\x9cG\\xba\\x8c\\x8a>b<\\xd3\\xff\\xd9'"
      ]
     },
     "execution_count": 48,
     "metadata": {},
     "output_type": "execute_result"
    }
   ],
   "source": [
    "requests.get(\"https://encrypted-tbn0.gstatic.com/images?q=tbn:ANd9GcQx-MBzYLePIzcwJ288RTrEAAD2CWXJIt0YI5mQsW9rGzdfT4qJrLOZRMiDng&s\").content"
   ]
  },
  {
   "cell_type": "code",
   "execution_count": 50,
   "id": "d14825e0-fdd8-44ed-8c0c-c954d6a2b9fc",
   "metadata": {},
   "outputs": [],
   "source": [
    "save_dir=\"images/images/\"\n",
    "if not os.path.exists(save_dir):\n",
    "    os.makedirs(save_dir)"
   ]
  },
  {
   "cell_type": "code",
   "execution_count": 51,
   "id": "dbb8f0f5-6558-4daa-a6ed-62b7709543ef",
   "metadata": {},
   "outputs": [
    {
     "name": "stdout",
     "output_type": "stream",
     "text": [
      "0\n",
      "1\n",
      "2\n",
      "3\n",
      "4\n",
      "5\n",
      "6\n",
      "7\n",
      "8\n",
      "9\n",
      "10\n",
      "11\n",
      "12\n",
      "13\n",
      "14\n",
      "15\n",
      "16\n",
      "17\n",
      "18\n",
      "19\n"
     ]
    }
   ],
   "source": [
    "for i in image_tags1:\n",
    "    print(image_tags1.index(i))"
   ]
  },
  {
   "cell_type": "code",
   "execution_count": 52,
   "id": "b4c5b38a-3f63-48a5-8543-a8d346c19683",
   "metadata": {},
   "outputs": [],
   "source": [
    "for i in image_tags1:\n",
    "    image_url=i['src']\n",
    "    image_data1=requests.get(image_url).content\n",
    "    with open(os.path.join(save_dir,f\"{query}_{image_tags1.index(i)}.jpg\"),\"wb\") as f:\n",
    "        f.write(image_data1)"
   ]
  },
  {
   "cell_type": "code",
   "execution_count": null,
   "id": "8e71a824-cc0c-4faf-b6e7-910d5f3b40eb",
   "metadata": {},
   "outputs": [],
   "source": []
  }
 ],
 "metadata": {
  "kernelspec": {
   "display_name": "Python 3 (ipykernel)",
   "language": "python",
   "name": "python3"
  },
  "language_info": {
   "codemirror_mode": {
    "name": "ipython",
    "version": 3
   },
   "file_extension": ".py",
   "mimetype": "text/x-python",
   "name": "python",
   "nbconvert_exporter": "python",
   "pygments_lexer": "ipython3",
   "version": "3.10.13"
  }
 },
 "nbformat": 4,
 "nbformat_minor": 5
}
